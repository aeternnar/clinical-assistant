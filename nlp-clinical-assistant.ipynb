{
 "cells": [
  {
   "cell_type": "markdown",
   "id": "191bd324-9585-4964-98d8-8e41382ca4a7",
   "metadata": {},
   "source": [
    "# **1. Data Analysis**"
   ]
  },
  {
   "cell_type": "code",
   "execution_count": 1,
   "id": "0dfffef9-9342-49ba-a3e5-0c2a41765f0a",
   "metadata": {},
   "outputs": [],
   "source": [
    "import numpy as np\n",
    "import pandas as pd\n",
    "import matplotlib.pyplot as plt\n",
    "import seaborn as sns\n",
    "import torch\n",
    "\n",
    "sns.set_style('darkgrid')"
   ]
  },
  {
   "cell_type": "code",
   "execution_count": 2,
   "id": "a86b22bb-f697-4b5f-919b-4edbfbde08c6",
   "metadata": {},
   "outputs": [],
   "source": [
    "df_origin = pd.read_csv('./dataset.csv')"
   ]
  },
  {
   "cell_type": "code",
   "execution_count": 3,
   "id": "a4452ab1-680b-40a1-bac0-3c1fa6047c86",
   "metadata": {},
   "outputs": [
    {
     "data": {
      "text/html": [
       "<div>\n",
       "<style scoped>\n",
       "    .dataframe tbody tr th:only-of-type {\n",
       "        vertical-align: middle;\n",
       "    }\n",
       "\n",
       "    .dataframe tbody tr th {\n",
       "        vertical-align: top;\n",
       "    }\n",
       "\n",
       "    .dataframe thead th {\n",
       "        text-align: right;\n",
       "    }\n",
       "</style>\n",
       "<table border=\"1\" class=\"dataframe\">\n",
       "  <thead>\n",
       "    <tr style=\"text-align: right;\">\n",
       "      <th></th>\n",
       "      <th>text</th>\n",
       "      <th>raw_data_id</th>\n",
       "    </tr>\n",
       "  </thead>\n",
       "  <tbody>\n",
       "    <tr>\n",
       "      <th>0</th>\n",
       "      <td>&lt;|user|&gt; What is high blood pressure? &lt;|eos|&gt; ...</td>\n",
       "      <td>0</td>\n",
       "    </tr>\n",
       "    <tr>\n",
       "      <th>1</th>\n",
       "      <td>&lt;|user|&gt; What are the risks of high blood pres...</td>\n",
       "      <td>0</td>\n",
       "    </tr>\n",
       "    <tr>\n",
       "      <th>2</th>\n",
       "      <td>&lt;|user|&gt; How is high blood pressure diagnosed?...</td>\n",
       "      <td>0</td>\n",
       "    </tr>\n",
       "    <tr>\n",
       "      <th>3</th>\n",
       "      <td>&lt;|user|&gt; What are the lifestyle changes that c...</td>\n",
       "      <td>0</td>\n",
       "    </tr>\n",
       "    <tr>\n",
       "      <th>4</th>\n",
       "      <td>&lt;|user|&gt; What are the medicines used to contro...</td>\n",
       "      <td>0</td>\n",
       "    </tr>\n",
       "  </tbody>\n",
       "</table>\n",
       "</div>"
      ],
      "text/plain": [
       "                                                text  raw_data_id\n",
       "0  <|user|> What is high blood pressure? <|eos|> ...            0\n",
       "1  <|user|> What are the risks of high blood pres...            0\n",
       "2  <|user|> How is high blood pressure diagnosed?...            0\n",
       "3  <|user|> What are the lifestyle changes that c...            0\n",
       "4  <|user|> What are the medicines used to contro...            0"
      ]
     },
     "execution_count": 3,
     "metadata": {},
     "output_type": "execute_result"
    }
   ],
   "source": [
    "df_origin.head()"
   ]
  },
  {
   "cell_type": "code",
   "execution_count": 4,
   "id": "74d810d7-cdcd-427e-9d21-9ec7ef957b1f",
   "metadata": {},
   "outputs": [],
   "source": [
    "df = df_origin.drop(columns=['raw_data_id'], axis=1)"
   ]
  },
  {
   "cell_type": "code",
   "execution_count": 5,
   "id": "e96c34be-c96d-49f8-ba0e-52397f477e20",
   "metadata": {},
   "outputs": [
    {
     "data": {
      "text/html": [
       "<div>\n",
       "<style scoped>\n",
       "    .dataframe tbody tr th:only-of-type {\n",
       "        vertical-align: middle;\n",
       "    }\n",
       "\n",
       "    .dataframe tbody tr th {\n",
       "        vertical-align: top;\n",
       "    }\n",
       "\n",
       "    .dataframe thead th {\n",
       "        text-align: right;\n",
       "    }\n",
       "</style>\n",
       "<table border=\"1\" class=\"dataframe\">\n",
       "  <thead>\n",
       "    <tr style=\"text-align: right;\">\n",
       "      <th></th>\n",
       "      <th>text</th>\n",
       "    </tr>\n",
       "  </thead>\n",
       "  <tbody>\n",
       "    <tr>\n",
       "      <th>0</th>\n",
       "      <td>&lt;|user|&gt; What is high blood pressure? &lt;|eos|&gt; ...</td>\n",
       "    </tr>\n",
       "    <tr>\n",
       "      <th>1</th>\n",
       "      <td>&lt;|user|&gt; What are the risks of high blood pres...</td>\n",
       "    </tr>\n",
       "    <tr>\n",
       "      <th>2</th>\n",
       "      <td>&lt;|user|&gt; How is high blood pressure diagnosed?...</td>\n",
       "    </tr>\n",
       "    <tr>\n",
       "      <th>3</th>\n",
       "      <td>&lt;|user|&gt; What are the lifestyle changes that c...</td>\n",
       "    </tr>\n",
       "    <tr>\n",
       "      <th>4</th>\n",
       "      <td>&lt;|user|&gt; What are the medicines used to contro...</td>\n",
       "    </tr>\n",
       "  </tbody>\n",
       "</table>\n",
       "</div>"
      ],
      "text/plain": [
       "                                                text\n",
       "0  <|user|> What is high blood pressure? <|eos|> ...\n",
       "1  <|user|> What are the risks of high blood pres...\n",
       "2  <|user|> How is high blood pressure diagnosed?...\n",
       "3  <|user|> What are the lifestyle changes that c...\n",
       "4  <|user|> What are the medicines used to contro..."
      ]
     },
     "execution_count": 5,
     "metadata": {},
     "output_type": "execute_result"
    }
   ],
   "source": [
    "df.head()"
   ]
  },
  {
   "cell_type": "code",
   "execution_count": 6,
   "id": "ffe62e97-8263-4b19-913b-c97c83373d9e",
   "metadata": {},
   "outputs": [
    {
     "name": "stdout",
     "output_type": "stream",
     "text": [
      "<|user|> What is high blood pressure? <|eos|> <|ai|> High blood pressure is a condition where the force at which your heart pumps blood around your body is high. It is recorded with 2 numbers, the systolic pressure and the diastolic pressure, both measured in millimetres of mercury (mmHg).\n",
      "References:\n",
      "- https://www.nhs.uk/conditions/Blood-pressure-(high)/Pages/Introduction.aspx <|eos|> <|eod|>\n",
      "\n",
      "**************************************************\n",
      "\n",
      "<|user|> What are the risks of high blood pressure? <|eos|> <|ai|> Persistent high blood pressure can put extra strain on your blood vessels, heart, and other organs, such as the brain, kidneys, and eyes. It can increase your risk of serious and potentially life-threatening health conditions, such as heart disease, heart attacks, strokes, heart failure, peripheral arterial disease, aortic aneurysms, kidney disease, and vascular dementia.\n",
      "References:\n",
      "- https://www.nhs.uk/conditions/Blood-pressure-(high)/Pages/Introduction.aspx <|eos|> <|eod|>\n",
      "\n",
      "**************************************************\n",
      "\n",
      "<|user|> How is high blood pressure diagnosed? <|eos|> <|ai|> The only way of knowing whether you have high blood pressure is to have a blood pressure test, which can be done at your GP surgery, some pharmacies, as part of your NHS Health Check, or in some workplaces. All adults over 40 are advised to have their blood pressure checked at least every 5 years.\n",
      "References:\n",
      "- https://www.nhs.uk/conditions/Blood-pressure-(high)/Pages/Introduction.aspx <|eos|> <|eod|>\n",
      "\n",
      "**************************************************\n",
      "\n",
      "<|user|> What are the lifestyle changes that can help reduce blood pressure? <|eos|> <|ai|> Lifestyle changes that can help prevent and lower high blood pressure include reducing the amount of salt you eat and having a generally healthy diet, cutting back on alcohol, losing weight if you're overweight, exercising regularly, cutting down on caffeine, and stopping smoking.\n",
      "References:\n",
      "- https://www.nhs.uk/conditions/Blood-pressure-(high)/Pages/Introduction.aspx <|eos|> <|eod|>\n",
      "\n",
      "**************************************************\n",
      "\n",
      "<|user|> What are the medicines used to control high blood pressure? <|eos|> <|ai|> Common blood pressure medicines include ACE inhibitors, angiotensin-2 receptor blockers (ARBs), calcium channel blockers, diuretics, beta blockers, alpha blockers, and other diuretics. The medicine recommended for you will depend on factors like how high your blood pressure is, your age, and your ethnicity.\n",
      "References:\n",
      "- https://www.nhs.uk/conditions/Blood-pressure-(high)/Pages/Introduction.aspx <|eos|> <|eod|>\n",
      "\n",
      "**************************************************\n",
      "\n"
     ]
    }
   ],
   "source": [
    "for i in range(5):\n",
    "    print(f'{df.loc[i, \"text\"]}\\n\\n' + '*' * 50 + '\\n')"
   ]
  },
  {
   "cell_type": "code",
   "execution_count": 7,
   "id": "b6e737c4-b683-4c4a-b871-a5ceebe50002",
   "metadata": {},
   "outputs": [],
   "source": [
    "df['text'] = df['text'].str.split('References:').str[0].str.strip() + ' <|eos|> <|eod|>'"
   ]
  },
  {
   "cell_type": "code",
   "execution_count": 8,
   "id": "9bf8c521-3cd6-48d5-a7ac-056a25682092",
   "metadata": {},
   "outputs": [
    {
     "name": "stdout",
     "output_type": "stream",
     "text": [
      "<|user|> What is high blood pressure? <|eos|> <|ai|> High blood pressure is a condition where the force at which your heart pumps blood around your body is high. It is recorded with 2 numbers, the systolic pressure and the diastolic pressure, both measured in millimetres of mercury (mmHg). <|eos|> <|eod|>\n",
      "\n",
      "**************************************************\n",
      "\n",
      "<|user|> What are the risks of high blood pressure? <|eos|> <|ai|> Persistent high blood pressure can put extra strain on your blood vessels, heart, and other organs, such as the brain, kidneys, and eyes. It can increase your risk of serious and potentially life-threatening health conditions, such as heart disease, heart attacks, strokes, heart failure, peripheral arterial disease, aortic aneurysms, kidney disease, and vascular dementia. <|eos|> <|eod|>\n",
      "\n",
      "**************************************************\n",
      "\n",
      "<|user|> How is high blood pressure diagnosed? <|eos|> <|ai|> The only way of knowing whether you have high blood pressure is to have a blood pressure test, which can be done at your GP surgery, some pharmacies, as part of your NHS Health Check, or in some workplaces. All adults over 40 are advised to have their blood pressure checked at least every 5 years. <|eos|> <|eod|>\n",
      "\n",
      "**************************************************\n",
      "\n",
      "<|user|> What are the lifestyle changes that can help reduce blood pressure? <|eos|> <|ai|> Lifestyle changes that can help prevent and lower high blood pressure include reducing the amount of salt you eat and having a generally healthy diet, cutting back on alcohol, losing weight if you're overweight, exercising regularly, cutting down on caffeine, and stopping smoking. <|eos|> <|eod|>\n",
      "\n",
      "**************************************************\n",
      "\n",
      "<|user|> What are the medicines used to control high blood pressure? <|eos|> <|ai|> Common blood pressure medicines include ACE inhibitors, angiotensin-2 receptor blockers (ARBs), calcium channel blockers, diuretics, beta blockers, alpha blockers, and other diuretics. The medicine recommended for you will depend on factors like how high your blood pressure is, your age, and your ethnicity. <|eos|> <|eod|>\n",
      "\n",
      "**************************************************\n",
      "\n"
     ]
    }
   ],
   "source": [
    "for i in range(5):\n",
    "    print(f'{df.loc[i, \"text\"]}\\n\\n' + '*' * 50 + '\\n')"
   ]
  },
  {
   "cell_type": "code",
   "execution_count": 9,
   "id": "e03a2ecb-cdf4-4baa-aed8-fd3d6e7e2034",
   "metadata": {},
   "outputs": [],
   "source": [
    "import re\n",
    "\n",
    "def convert_to_gemma_format(text):\n",
    "    t = text.replace('<|eos|>', '').replace('<|eod|>', '')\n",
    "    t = t.replace('<|user|>', '<start_of_turn>user\\n')\n",
    "    t = t.replace('<|ai|>', '<end_of_turn>\\n<start_of_turn>model\\n')\n",
    "    t = t.strip()\n",
    "    t = re.sub(r'\\n\\s+', '\\n', t)\n",
    "    t = re.sub(r'\\s+<end_of_turn>', '<end_of_turn>', t)\n",
    "    t = re.sub(r'[ \\t]+(\\n)', r'\\1', t)\n",
    "    t = re.sub(r' {2,}', ' ', t)\n",
    "    if not t.endswith('<end_of_turn>'):\n",
    "        t = t + '<end_of_turn>'\n",
    "\n",
    "    return t\n",
    "    \n",
    "df['text'] = df['text'].apply(convert_to_gemma_format)"
   ]
  },
  {
   "cell_type": "code",
   "execution_count": 10,
   "id": "f39974df-62f5-443a-bc97-63bbb2adc448",
   "metadata": {},
   "outputs": [
    {
     "name": "stdout",
     "output_type": "stream",
     "text": [
      "<start_of_turn>user\n",
      "What is high blood pressure?<end_of_turn>\n",
      "<start_of_turn>model\n",
      "High blood pressure is a condition where the force at which your heart pumps blood around your body is high. It is recorded with 2 numbers, the systolic pressure and the diastolic pressure, both measured in millimetres of mercury (mmHg).<end_of_turn>\n",
      "\n",
      "**************************************************\n",
      "\n",
      "<start_of_turn>user\n",
      "What are the risks of high blood pressure?<end_of_turn>\n",
      "<start_of_turn>model\n",
      "Persistent high blood pressure can put extra strain on your blood vessels, heart, and other organs, such as the brain, kidneys, and eyes. It can increase your risk of serious and potentially life-threatening health conditions, such as heart disease, heart attacks, strokes, heart failure, peripheral arterial disease, aortic aneurysms, kidney disease, and vascular dementia.<end_of_turn>\n",
      "\n",
      "**************************************************\n",
      "\n",
      "<start_of_turn>user\n",
      "How is high blood pressure diagnosed?<end_of_turn>\n",
      "<start_of_turn>model\n",
      "The only way of knowing whether you have high blood pressure is to have a blood pressure test, which can be done at your GP surgery, some pharmacies, as part of your NHS Health Check, or in some workplaces. All adults over 40 are advised to have their blood pressure checked at least every 5 years.<end_of_turn>\n",
      "\n",
      "**************************************************\n",
      "\n",
      "<start_of_turn>user\n",
      "What are the lifestyle changes that can help reduce blood pressure?<end_of_turn>\n",
      "<start_of_turn>model\n",
      "Lifestyle changes that can help prevent and lower high blood pressure include reducing the amount of salt you eat and having a generally healthy diet, cutting back on alcohol, losing weight if you're overweight, exercising regularly, cutting down on caffeine, and stopping smoking.<end_of_turn>\n",
      "\n",
      "**************************************************\n",
      "\n",
      "<start_of_turn>user\n",
      "What are the medicines used to control high blood pressure?<end_of_turn>\n",
      "<start_of_turn>model\n",
      "Common blood pressure medicines include ACE inhibitors, angiotensin-2 receptor blockers (ARBs), calcium channel blockers, diuretics, beta blockers, alpha blockers, and other diuretics. The medicine recommended for you will depend on factors like how high your blood pressure is, your age, and your ethnicity.<end_of_turn>\n",
      "\n",
      "**************************************************\n",
      "\n"
     ]
    }
   ],
   "source": [
    "for i in range(5):\n",
    "    print(f'{df.loc[i, \"text\"]}\\n\\n' + '*' * 50 + '\\n')"
   ]
  },
  {
   "cell_type": "code",
   "execution_count": 11,
   "id": "e55710cb-7aaf-4ae0-b61e-21d4ced8af5c",
   "metadata": {},
   "outputs": [],
   "source": [
    "df['len'] = df['text'].str.split().apply(len)"
   ]
  },
  {
   "cell_type": "code",
   "execution_count": 12,
   "id": "fc4fa7b9-4028-453a-9cc0-31435a333748",
   "metadata": {},
   "outputs": [
    {
     "data": {
      "image/png": "[encoded data removed]",
      "text/plain": [
       "<Figure size 1000x600 with 1 Axes>"
      ]
     },
     "metadata": {},
     "output_type": "display_data"
    }
   ],
   "source": [
    "plt.figure(figsize=(10, 6))\n",
    "sns.histplot(data=df, x='len', kde=True, bins=60, color='green')\n",
    "plt.title('Распределение длин текстов (в словах)')\n",
    "plt.yticks(None)\n",
    "plt.xlabel(None)\n",
    "plt.ylabel(None);"
   ]
  },
  {
   "cell_type": "code",
   "execution_count": 13,
   "id": "0105f026-aa54-4dc0-8dc7-13432e97bcdd",
   "metadata": {},
   "outputs": [
    {
     "data": {
      "text/plain": [
       "(24665, 2)"
      ]
     },
     "execution_count": 13,
     "metadata": {},
     "output_type": "execute_result"
    }
   ],
   "source": [
    "df.shape"
   ]
  },
  {
   "cell_type": "code",
   "execution_count": 14,
   "id": "ef9744e9-6a2a-40f0-bc92-97d4498c5875",
   "metadata": {},
   "outputs": [
    {
     "data": {
      "text/html": [
       "<div>\n",
       "<style scoped>\n",
       "    .dataframe tbody tr th:only-of-type {\n",
       "        vertical-align: middle;\n",
       "    }\n",
       "\n",
       "    .dataframe tbody tr th {\n",
       "        vertical-align: top;\n",
       "    }\n",
       "\n",
       "    .dataframe thead th {\n",
       "        text-align: right;\n",
       "    }\n",
       "</style>\n",
       "<table border=\"1\" class=\"dataframe\">\n",
       "  <thead>\n",
       "    <tr style=\"text-align: right;\">\n",
       "      <th></th>\n",
       "      <th>text</th>\n",
       "      <th>len</th>\n",
       "    </tr>\n",
       "  </thead>\n",
       "  <tbody>\n",
       "    <tr>\n",
       "      <th>1410</th>\n",
       "      <td>&lt;start_of_turn&gt;user\\nWhat should I do if I mis...</td>\n",
       "      <td>195</td>\n",
       "    </tr>\n",
       "    <tr>\n",
       "      <th>6633</th>\n",
       "      <td>&lt;start_of_turn&gt;user\\nWhat are the symptoms of ...</td>\n",
       "      <td>166</td>\n",
       "    </tr>\n",
       "    <tr>\n",
       "      <th>7044</th>\n",
       "      <td>&lt;start_of_turn&gt;user\\nWhat are the main steps f...</td>\n",
       "      <td>166</td>\n",
       "    </tr>\n",
       "    <tr>\n",
       "      <th>9885</th>\n",
       "      <td>&lt;start_of_turn&gt;user\\nHow does the cervical sec...</td>\n",
       "      <td>170</td>\n",
       "    </tr>\n",
       "    <tr>\n",
       "      <th>12862</th>\n",
       "      <td>&lt;start_of_turn&gt;user\\nWhat are ticks, and how c...</td>\n",
       "      <td>164</td>\n",
       "    </tr>\n",
       "    <tr>\n",
       "      <th>14215</th>\n",
       "      <td>&lt;start_of_turn&gt;user\\nHow do I treat someone wh...</td>\n",
       "      <td>164</td>\n",
       "    </tr>\n",
       "    <tr>\n",
       "      <th>14344</th>\n",
       "      <td>&lt;start_of_turn&gt;user\\nWhat financial support is...</td>\n",
       "      <td>162</td>\n",
       "    </tr>\n",
       "    <tr>\n",
       "      <th>14768</th>\n",
       "      <td>&lt;start_of_turn&gt;user\\nWhat are the stages of me...</td>\n",
       "      <td>217</td>\n",
       "    </tr>\n",
       "    <tr>\n",
       "      <th>17722</th>\n",
       "      <td>&lt;start_of_turn&gt;user\\nHow can I keep children u...</td>\n",
       "      <td>274</td>\n",
       "    </tr>\n",
       "    <tr>\n",
       "      <th>22835</th>\n",
       "      <td>&lt;start_of_turn&gt;user\\nHow can I prepare for tra...</td>\n",
       "      <td>186</td>\n",
       "    </tr>\n",
       "    <tr>\n",
       "      <th>23804</th>\n",
       "      <td>&lt;start_of_turn&gt;user\\nWho should not have the B...</td>\n",
       "      <td>196</td>\n",
       "    </tr>\n",
       "  </tbody>\n",
       "</table>\n",
       "</div>"
      ],
      "text/plain": [
       "                                                    text  len\n",
       "1410   <start_of_turn>user\\nWhat should I do if I mis...  195\n",
       "6633   <start_of_turn>user\\nWhat are the symptoms of ...  166\n",
       "7044   <start_of_turn>user\\nWhat are the main steps f...  166\n",
       "9885   <start_of_turn>user\\nHow does the cervical sec...  170\n",
       "12862  <start_of_turn>user\\nWhat are ticks, and how c...  164\n",
       "14215  <start_of_turn>user\\nHow do I treat someone wh...  164\n",
       "14344  <start_of_turn>user\\nWhat financial support is...  162\n",
       "14768  <start_of_turn>user\\nWhat are the stages of me...  217\n",
       "17722  <start_of_turn>user\\nHow can I keep children u...  274\n",
       "22835  <start_of_turn>user\\nHow can I prepare for tra...  186\n",
       "23804  <start_of_turn>user\\nWho should not have the B...  196"
      ]
     },
     "execution_count": 14,
     "metadata": {},
     "output_type": "execute_result"
    }
   ],
   "source": [
    "df[df['len'] > 160]"
   ]
  },
  {
   "cell_type": "code",
   "execution_count": 15,
   "id": "0dc757b5-e1df-4b2d-9acb-980da940680a",
   "metadata": {},
   "outputs": [],
   "source": [
    "df = df[df['len'] < 160]"
   ]
  },
  {
   "cell_type": "code",
   "execution_count": 16,
   "id": "197101f0-4937-4196-a6c2-826fc271f441",
   "metadata": {},
   "outputs": [
    {
     "data": {
      "image/png": "[encoded data removed]",
      "text/plain": [
       "<Figure size 1000x600 with 1 Axes>"
      ]
     },
     "metadata": {},
     "output_type": "display_data"
    }
   ],
   "source": [
    "plt.figure(figsize=(10, 6))\n",
    "sns.histplot(data=df, x='len', kde=True, bins=60, color='green')\n",
    "plt.title('Распределение длин текстов (в словах)')\n",
    "plt.yticks(None)\n",
    "plt.xlabel(None)\n",
    "plt.ylabel(None);"
   ]
  },
  {
   "cell_type": "code",
   "execution_count": 17,
   "id": "bd6feed1-2796-437a-b6dd-b884285e52d2",
   "metadata": {},
   "outputs": [
    {
     "data": {
      "text/html": [
       "<div>\n",
       "<style scoped>\n",
       "    .dataframe tbody tr th:only-of-type {\n",
       "        vertical-align: middle;\n",
       "    }\n",
       "\n",
       "    .dataframe tbody tr th {\n",
       "        vertical-align: top;\n",
       "    }\n",
       "\n",
       "    .dataframe thead th {\n",
       "        text-align: right;\n",
       "    }\n",
       "</style>\n",
       "<table border=\"1\" class=\"dataframe\">\n",
       "  <thead>\n",
       "    <tr style=\"text-align: right;\">\n",
       "      <th></th>\n",
       "      <th>text</th>\n",
       "      <th>len</th>\n",
       "    </tr>\n",
       "  </thead>\n",
       "  <tbody>\n",
       "    <tr>\n",
       "      <th>0</th>\n",
       "      <td>&lt;start_of_turn&gt;user\\nWhat is high blood pressu...</td>\n",
       "      <td>47</td>\n",
       "    </tr>\n",
       "    <tr>\n",
       "      <th>1</th>\n",
       "      <td>&lt;start_of_turn&gt;user\\nWhat are the risks of hig...</td>\n",
       "      <td>64</td>\n",
       "    </tr>\n",
       "    <tr>\n",
       "      <th>2</th>\n",
       "      <td>&lt;start_of_turn&gt;user\\nHow is high blood pressur...</td>\n",
       "      <td>64</td>\n",
       "    </tr>\n",
       "    <tr>\n",
       "      <th>3</th>\n",
       "      <td>&lt;start_of_turn&gt;user\\nWhat are the lifestyle ch...</td>\n",
       "      <td>56</td>\n",
       "    </tr>\n",
       "    <tr>\n",
       "      <th>4</th>\n",
       "      <td>&lt;start_of_turn&gt;user\\nWhat are the medicines us...</td>\n",
       "      <td>55</td>\n",
       "    </tr>\n",
       "    <tr>\n",
       "      <th>...</th>\n",
       "      <td>...</td>\n",
       "      <td>...</td>\n",
       "    </tr>\n",
       "    <tr>\n",
       "      <th>24660</th>\n",
       "      <td>&lt;start_of_turn&gt;user\\nWhat is the prevalence of...</td>\n",
       "      <td>32</td>\n",
       "    </tr>\n",
       "    <tr>\n",
       "      <th>24661</th>\n",
       "      <td>&lt;start_of_turn&gt;user\\nWhat is the prevalence of...</td>\n",
       "      <td>21</td>\n",
       "    </tr>\n",
       "    <tr>\n",
       "      <th>24662</th>\n",
       "      <td>&lt;start_of_turn&gt;user\\nWhat is the burden associ...</td>\n",
       "      <td>69</td>\n",
       "    </tr>\n",
       "    <tr>\n",
       "      <th>24663</th>\n",
       "      <td>&lt;start_of_turn&gt;user\\nWhat does the clinical gu...</td>\n",
       "      <td>43</td>\n",
       "    </tr>\n",
       "    <tr>\n",
       "      <th>24664</th>\n",
       "      <td>&lt;start_of_turn&gt;user\\nWhat is not covered in th...</td>\n",
       "      <td>50</td>\n",
       "    </tr>\n",
       "  </tbody>\n",
       "</table>\n",
       "<p>24654 rows × 2 columns</p>\n",
       "</div>"
      ],
      "text/plain": [
       "                                                    text  len\n",
       "0      <start_of_turn>user\\nWhat is high blood pressu...   47\n",
       "1      <start_of_turn>user\\nWhat are the risks of hig...   64\n",
       "2      <start_of_turn>user\\nHow is high blood pressur...   64\n",
       "3      <start_of_turn>user\\nWhat are the lifestyle ch...   56\n",
       "4      <start_of_turn>user\\nWhat are the medicines us...   55\n",
       "...                                                  ...  ...\n",
       "24660  <start_of_turn>user\\nWhat is the prevalence of...   32\n",
       "24661  <start_of_turn>user\\nWhat is the prevalence of...   21\n",
       "24662  <start_of_turn>user\\nWhat is the burden associ...   69\n",
       "24663  <start_of_turn>user\\nWhat does the clinical gu...   43\n",
       "24664  <start_of_turn>user\\nWhat is not covered in th...   50\n",
       "\n",
       "[24654 rows x 2 columns]"
      ]
     },
     "execution_count": 17,
     "metadata": {},
     "output_type": "execute_result"
    }
   ],
   "source": [
    "df"
   ]
  },
  {
   "cell_type": "code",
   "execution_count": 18,
   "id": "76e9e0cd-5823-413e-94c4-a5ecbf4c3113",
   "metadata": {},
   "outputs": [],
   "source": [
    "df['text'] = df['text'].str.replace(\"<\\\\|eos\\\\|>\", \"<eos>\", regex=True)"
   ]
  },
  {
   "cell_type": "code",
   "execution_count": 19,
   "id": "a4a18a1f-7f2f-41e5-a888-26d3c5d7c83a",
   "metadata": {},
   "outputs": [],
   "source": [
    "from datasets import Dataset\n",
    "\n",
    "dataset = Dataset.from_pandas(df[[\"text\"]])"
   ]
  },
  {
   "cell_type": "code",
   "execution_count": 20,
   "id": "3ae5ffc1-c2b5-4df9-a262-57e3ed63ccaa",
   "metadata": {},
   "outputs": [
    {
     "data": {
      "text/plain": [
       "Dataset({\n",
       "    features: ['text', '__index_level_0__'],\n",
       "    num_rows: 24654\n",
       "})"
      ]
     },
     "execution_count": 20,
     "metadata": {},
     "output_type": "execute_result"
    }
   ],
   "source": [
    "dataset"
   ]
  },
  {
   "cell_type": "code",
   "execution_count": 21,
   "id": "a99a7984-eca2-4d1e-83f0-0f5f84e4f75f",
   "metadata": {},
   "outputs": [],
   "source": [
    "dataset = dataset.remove_columns([\"__index_level_0__\"])"
   ]
  },
  {
   "cell_type": "code",
   "execution_count": 22,
   "id": "11582df1-6556-4af5-976f-5f3aef0082a8",
   "metadata": {},
   "outputs": [],
   "source": [
    "from datasets import DatasetDict\n",
    "\n",
    "split_temp = dataset.train_test_split(test_size=0.1, seed=42)\n",
    "\n",
    "temp = split_temp[\"test\"]\n",
    "val_test_split = temp.train_test_split(test_size=0.5, seed=42)\n",
    "\n",
    "dataset = DatasetDict({\n",
    "    \"train\": split_temp[\"train\"],\n",
    "    \"validation\": val_test_split[\"train\"],\n",
    "    \"test\": val_test_split[\"test\"]\n",
    "})"
   ]
  },
  {
   "cell_type": "code",
   "execution_count": 23,
   "id": "9aced456-02ee-458b-9264-724ca25d1df7",
   "metadata": {},
   "outputs": [
    {
     "data": {
      "text/plain": [
       "DatasetDict({\n",
       "    train: Dataset({\n",
       "        features: ['text'],\n",
       "        num_rows: 22188\n",
       "    })\n",
       "    validation: Dataset({\n",
       "        features: ['text'],\n",
       "        num_rows: 1233\n",
       "    })\n",
       "    test: Dataset({\n",
       "        features: ['text'],\n",
       "        num_rows: 1233\n",
       "    })\n",
       "})"
      ]
     },
     "execution_count": 23,
     "metadata": {},
     "output_type": "execute_result"
    }
   ],
   "source": [
    "dataset"
   ]
  },
  {
   "cell_type": "markdown",
   "id": "fb7d9a83-d63f-4722-8374-0b7d8742c89e",
   "metadata": {},
   "source": [
    "# **2. Data Tokenization**"
   ]
  },
  {
   "cell_type": "code",
   "execution_count": 24,
   "id": "e12bc311-5fac-4279-b060-84a2fc3a03c9",
   "metadata": {},
   "outputs": [],
   "source": [
    "from transformers import AutoTokenizer\n",
    "\n",
    "checkpoint = \"./gemma-2-2b-it\"\n",
    "tokenizer = AutoTokenizer.from_pretrained(checkpoint)"
   ]
  },
  {
   "cell_type": "code",
   "execution_count": 25,
   "id": "ac93e23c-1290-4060-8e79-3b9779d2ae46",
   "metadata": {},
   "outputs": [
    {
     "name": "stdout",
     "output_type": "stream",
     "text": [
      "padding_side: left\n"
     ]
    }
   ],
   "source": [
    "print(\"padding_side:\", tokenizer.padding_side)"
   ]
  },
  {
   "cell_type": "code",
   "execution_count": 26,
   "id": "4a415f5c-c44d-4058-b83a-dc651aef5d46",
   "metadata": {},
   "outputs": [],
   "source": [
    "tokenizer.padding_side = 'right'"
   ]
  },
  {
   "cell_type": "code",
   "execution_count": 27,
   "id": "97e2060d-00ac-435d-86bb-887581d44077",
   "metadata": {},
   "outputs": [
    {
     "name": "stdout",
     "output_type": "stream",
     "text": [
      "256000\n"
     ]
    }
   ],
   "source": [
    "print(tokenizer.vocab_size)"
   ]
  },
  {
   "cell_type": "code",
   "execution_count": 28,
   "id": "775b0262-2a2f-499d-b9f6-59dcfdb74ad4",
   "metadata": {},
   "outputs": [
    {
     "name": "stdout",
     "output_type": "stream",
     "text": [
      "{'bos_token': '<bos>', 'eos_token': '<eos>', 'unk_token': '<unk>', 'pad_token': '<pad>', 'additional_special_tokens': ['<start_of_turn>', '<end_of_turn>']}\n",
      "['<bos>', '<eos>', '<unk>', '<pad>', '<start_of_turn>', '<end_of_turn>']\n"
     ]
    }
   ],
   "source": [
    "print(tokenizer.special_tokens_map)\n",
    "print(tokenizer.all_special_tokens)"
   ]
  },
  {
   "cell_type": "code",
   "execution_count": 29,
   "id": "15cf18dd-826c-4649-aacd-318ab1889be7",
   "metadata": {},
   "outputs": [],
   "source": [
    "def tokenize_for_len_analysis(example, max_length=1024):\n",
    "    tokens = tokenizer(\n",
    "        example[\"text\"],\n",
    "        padding=False\n",
    "    )[\"input_ids\"]\n",
    "\n",
    "    return {\"input_ids\": tokens}"
   ]
  },
  {
   "cell_type": "code",
   "execution_count": 30,
   "id": "9e5cfe4d-318a-480c-b8ee-6147a06624c0",
   "metadata": {},
   "outputs": [
    {
     "data": {
      "application/vnd.jupyter.widget-view+json": {
       "model_id": "7a935d035a2f4e5da0eb86b3efc2ebfe",
       "version_major": 2,
       "version_minor": 0
      },
      "text/plain": [
       "Map:   0%|          | 0/22188 [00:00<?, ? examples/s]"
      ]
     },
     "metadata": {},
     "output_type": "display_data"
    },
    {
     "data": {
      "application/vnd.jupyter.widget-view+json": {
       "model_id": "c79ac5a22120480b824d56308f75200c",
       "version_major": 2,
       "version_minor": 0
      },
      "text/plain": [
       "Map:   0%|          | 0/1233 [00:00<?, ? examples/s]"
      ]
     },
     "metadata": {},
     "output_type": "display_data"
    },
    {
     "data": {
      "application/vnd.jupyter.widget-view+json": {
       "model_id": "fdcc0c7c42684a26925c24997f418ee9",
       "version_major": 2,
       "version_minor": 0
      },
      "text/plain": [
       "Map:   0%|          | 0/1233 [00:00<?, ? examples/s]"
      ]
     },
     "metadata": {},
     "output_type": "display_data"
    }
   ],
   "source": [
    "tokenized_dataset_temp = dataset.map(tokenize_for_len_analysis, batched=False)"
   ]
  },
  {
   "cell_type": "code",
   "execution_count": 31,
   "id": "c86aa004-dda0-4804-93b8-fa49b46e7ec8",
   "metadata": {},
   "outputs": [],
   "source": [
    "lengths = [len(x[\"input_ids\"]) for x in tokenized_dataset_temp[\"train\"]]\n",
    "lengths_df = pd.DataFrame(data=lengths)"
   ]
  },
  {
   "cell_type": "code",
   "execution_count": 32,
   "id": "51d632aa-420b-478a-aad4-2e9cb2bcd110",
   "metadata": {},
   "outputs": [
    {
     "data": {
      "image/png": "[encoded data removed]",
      "text/plain": [
       "<Figure size 1000x600 with 1 Axes>"
      ]
     },
     "metadata": {},
     "output_type": "display_data"
    }
   ],
   "source": [
    "plt.figure(figsize=(10, 6))\n",
    "sns.histplot(data=lengths_df, kde=True, bins=50)\n",
    "plt.yticks(None)\n",
    "plt.xlabel(None)\n",
    "plt.ylabel(None)\n",
    "plt.legend([])\n",
    "plt.title(\"Распределение длин текстов (в токенах)\");"
   ]
  },
  {
   "cell_type": "code",
   "execution_count": 33,
   "id": "2744189d-6849-44b8-901f-fb7cf5d939f8",
   "metadata": {},
   "outputs": [
    {
     "name": "stdout",
     "output_type": "stream",
     "text": [
      "90-й перцентиль: 102.0\n",
      "95-й перцентиль: 115.0\n",
      "99-й перцентиль: 144.0\n",
      "Максимальная длина: 260\n"
     ]
    }
   ],
   "source": [
    "print(\"90-й перцентиль:\", np.percentile(lengths, 90))\n",
    "print(\"95-й перцентиль:\", np.percentile(lengths, 95))\n",
    "print(\"99-й перцентиль:\", np.percentile(lengths, 99))\n",
    "print(\"Максимальная длина:\", max(lengths))"
   ]
  },
  {
   "cell_type": "code",
   "execution_count": 28,
   "id": "9e9a6565-fabb-4ce4-b419-939f7a8cac85",
   "metadata": {},
   "outputs": [],
   "source": [
    "def tokenize_and_mask(example, max_length=152):\n",
    "    tokens = tokenizer(\n",
    "        example[\"text\"],\n",
    "        truncation=True,\n",
    "        max_length=max_length,\n",
    "        padding=\"max_length\",\n",
    "    )[\"input_ids\"]\n",
    "\n",
    "    start_id = tokenizer.convert_tokens_to_ids(\"<start_of_turn>\")\n",
    "    indices = [i for i, t in enumerate(tokens) if t == start_id]\n",
    "\n",
    "    ai_index = None\n",
    "    for idx in indices:\n",
    "        following_text = tokenizer.decode(tokens[idx: idx+3])\n",
    "        if \"model\" in following_text:\n",
    "            ai_index = idx\n",
    "            break\n",
    "\n",
    "    if ai_index is None:\n",
    "        return {\"input_ids\": tokens, \"labels\": [-100] * len(tokens)}\n",
    "\n",
    "    labels = [-100] * (ai_index + 1) + tokens[ai_index + 1:]\n",
    "    labels = [tok if tok != 0 else -100 for tok in labels]\n",
    "\n",
    "    return {\"input_ids\": tokens, \"labels\": labels} "
   ]
  },
  {
   "cell_type": "code",
   "execution_count": 29,
   "id": "8ec17745-fd96-4f0f-9459-9cc2871999ba",
   "metadata": {},
   "outputs": [
    {
     "data": {
      "text/plain": [
       "'right'"
      ]
     },
     "execution_count": 29,
     "metadata": {},
     "output_type": "execute_result"
    }
   ],
   "source": [
    "tokenizer.padding_side"
   ]
  },
  {
   "cell_type": "code",
   "execution_count": 30,
   "id": "a3051ff4-60aa-4485-8ef2-5f8ee1cfb0b8",
   "metadata": {},
   "outputs": [
    {
     "data": {
      "application/vnd.jupyter.widget-view+json": {
       "model_id": "50db7b85ea7a49fc8769cacfadc64cf1",
       "version_major": 2,
       "version_minor": 0
      },
      "text/plain": [
       "Map:   0%|          | 0/22188 [00:00<?, ? examples/s]"
      ]
     },
     "metadata": {},
     "output_type": "display_data"
    },
    {
     "data": {
      "application/vnd.jupyter.widget-view+json": {
       "model_id": "51e86f89e52d462ca457ee915cd46154",
       "version_major": 2,
       "version_minor": 0
      },
      "text/plain": [
       "Map:   0%|          | 0/1233 [00:00<?, ? examples/s]"
      ]
     },
     "metadata": {},
     "output_type": "display_data"
    },
    {
     "data": {
      "application/vnd.jupyter.widget-view+json": {
       "model_id": "d660094ddbe04f488968484115a6c1a3",
       "version_major": 2,
       "version_minor": 0
      },
      "text/plain": [
       "Map:   0%|          | 0/1233 [00:00<?, ? examples/s]"
      ]
     },
     "metadata": {},
     "output_type": "display_data"
    }
   ],
   "source": [
    "tokenized_dataset = dataset.map(tokenize_and_mask, batched=False)"
   ]
  },
  {
   "cell_type": "markdown",
   "id": "0d2ed544-c24a-42a5-a4e6-7d0e727b9c2e",
   "metadata": {},
   "source": [
    "# **3. Peft Model Initialization**"
   ]
  },
  {
   "cell_type": "code",
   "execution_count": 37,
   "id": "2356b61f-502d-4716-b768-7ef3f9946cca",
   "metadata": {},
   "outputs": [],
   "source": [
    "from transformers import AutoModelForCausalLM, AutoTokenizer, BitsAndBytesConfig\n",
    "\n",
    "bnb = BitsAndBytesConfig(\n",
    "    load_in_4bit=True,\n",
    "    bnb_4bit_quant_type='nf4',\n",
    "    bnb_4bit_use_double_quant=True,\n",
    "    bnb_4bit_compute_dtype=torch.float16\n",
    ")"
   ]
  },
  {
   "cell_type": "code",
   "execution_count": 38,
   "id": "7dbbc98f-4618-4474-b436-12791c8b5d3c",
   "metadata": {
    "scrolled": true
   },
   "outputs": [
    {
     "data": {
      "application/vnd.jupyter.widget-view+json": {
       "model_id": "9457cbbfbb8c4c58afd28cc621123aa8",
       "version_major": 2,
       "version_minor": 0
      },
      "text/plain": [
       "Loading checkpoint shards:   0%|          | 0/2 [00:00<?, ?it/s]"
      ]
     },
     "metadata": {},
     "output_type": "display_data"
    }
   ],
   "source": [
    "from transformers import AutoModelForCausalLM\n",
    "model = AutoModelForCausalLM.from_pretrained(\n",
    "    checkpoint,\n",
    "    quantization_config=bnb,\n",
    "    trust_remote_code=True,\n",
    "    device_map=\"auto\",\n",
    "    attn_implementation=\"eager\"\n",
    ")"
   ]
  },
  {
   "cell_type": "code",
   "execution_count": 39,
   "id": "d1633a26-cf80-4c5a-a1ee-f37f366a5ad7",
   "metadata": {},
   "outputs": [],
   "source": [
    "from peft import prepare_model_for_kbit_training\n",
    "model = prepare_model_for_kbit_training(model)"
   ]
  },
  {
   "cell_type": "code",
   "execution_count": 40,
   "id": "815dcb33-2fdf-4f5e-8fff-9c58aa8276cd",
   "metadata": {},
   "outputs": [],
   "source": [
    "from peft import LoraConfig, get_peft_model\n",
    "\n",
    "lora = LoraConfig(\n",
    "    r=8,\n",
    "    lora_alpha=16,\n",
    "    lora_dropout=0.05,\n",
    "    target_modules=['q_proj', 'k_proj', 'v_proj', 'o_proj']\n",
    ")\n",
    "\n",
    "model = get_peft_model(model, lora)"
   ]
  },
  {
   "cell_type": "code",
   "execution_count": 41,
   "id": "36e1da9b-a38f-4356-92c6-9b6a36239a47",
   "metadata": {},
   "outputs": [],
   "source": [
    "model.config.use_cache = False\n",
    "model.gradient_checkpointing_enable() "
   ]
  },
  {
   "cell_type": "markdown",
   "id": "901de3c1-1420-48ed-b2a2-2eac3e0e838b",
   "metadata": {},
   "source": [
    "# **4. Model Fitting**"
   ]
  },
  {
   "cell_type": "code",
   "execution_count": 42,
   "id": "1ea0b956-d74e-40e6-b6e1-7debca696dd3",
   "metadata": {},
   "outputs": [],
   "source": [
    "from transformers import Trainer, TrainingArguments, DataCollatorForLanguageModeling\n",
    "\n",
    "data_collator = DataCollatorForLanguageModeling(tokenizer, mlm=False)\n",
    "\n",
    "training_args = TrainingArguments(\n",
    "    output_dir=\"./gemma-lora\",\n",
    "    per_device_train_batch_size=4,\n",
    "    gradient_accumulation_steps=4,\n",
    "    learning_rate=2e-4,\n",
    "    num_train_epochs=3,\n",
    "    save_strategy=\"steps\",\n",
    "    save_steps=200,\n",
    "    logging_steps=50,\n",
    "    eval_strategy=\"steps\",\n",
    "    eval_steps=200,\n",
    "    fp16=True,\n",
    "\n",
    ")\n",
    "\n",
    "trainer = Trainer(\n",
    "    model=model,\n",
    "    args=training_args,\n",
    "    train_dataset=tokenized_dataset[\"train\"],\n",
    "    eval_dataset=tokenized_dataset[\"validation\"],\n",
    "    data_collator=data_collator\n",
    ")"
   ]
  },
  {
   "cell_type": "code",
   "execution_count": 43,
   "id": "4d3c9733-9274-406d-9739-15e56f200c29",
   "metadata": {},
   "outputs": [
    {
     "data": {
      "text/html": [
       "\n",
       "    <div>\n",
       "      \n",
       "      <progress value='4161' max='4161' style='width:300px; height:20px; vertical-align: middle;'></progress>\n",
       "      [4161/4161 4:08:11, Epoch 3/3]\n",
       "    </div>\n",
       "    <table border=\"1\" class=\"dataframe\">\n",
       "  <thead>\n",
       " <tr style=\"text-align: left;\">\n",
       "      <th>Step</th>\n",
       "      <th>Training Loss</th>\n",
       "      <th>Validation Loss</th>\n",
       "    </tr>\n",
       "  </thead>\n",
       "  <tbody>\n",
       "    <tr>\n",
       "      <td>200</td>\n",
       "      <td>1.407800</td>\n",
       "      <td>1.450947</td>\n",
       "    </tr>\n",
       "    <tr>\n",
       "      <td>400</td>\n",
       "      <td>1.399900</td>\n",
       "      <td>1.430228</td>\n",
       "    </tr>\n",
       "    <tr>\n",
       "      <td>600</td>\n",
       "      <td>1.376100</td>\n",
       "      <td>1.418321</td>\n",
       "    </tr>\n",
       "    <tr>\n",
       "      <td>800</td>\n",
       "      <td>1.372800</td>\n",
       "      <td>1.407141</td>\n",
       "    </tr>\n",
       "    <tr>\n",
       "      <td>1000</td>\n",
       "      <td>1.356900</td>\n",
       "      <td>1.398972</td>\n",
       "    </tr>\n",
       "    <tr>\n",
       "      <td>1200</td>\n",
       "      <td>1.343000</td>\n",
       "      <td>1.392303</td>\n",
       "    </tr>\n",
       "    <tr>\n",
       "      <td>1400</td>\n",
       "      <td>1.327600</td>\n",
       "      <td>1.388579</td>\n",
       "    </tr>\n",
       "    <tr>\n",
       "      <td>1600</td>\n",
       "      <td>1.295700</td>\n",
       "      <td>1.387607</td>\n",
       "    </tr>\n",
       "    <tr>\n",
       "      <td>1800</td>\n",
       "      <td>1.299400</td>\n",
       "      <td>1.382338</td>\n",
       "    </tr>\n",
       "    <tr>\n",
       "      <td>2000</td>\n",
       "      <td>1.262700</td>\n",
       "      <td>1.381489</td>\n",
       "    </tr>\n",
       "    <tr>\n",
       "      <td>2200</td>\n",
       "      <td>1.286900</td>\n",
       "      <td>1.375885</td>\n",
       "    </tr>\n",
       "    <tr>\n",
       "      <td>2400</td>\n",
       "      <td>1.275600</td>\n",
       "      <td>1.374768</td>\n",
       "    </tr>\n",
       "    <tr>\n",
       "      <td>2600</td>\n",
       "      <td>1.287200</td>\n",
       "      <td>1.369264</td>\n",
       "    </tr>\n",
       "    <tr>\n",
       "      <td>2800</td>\n",
       "      <td>1.255900</td>\n",
       "      <td>1.373461</td>\n",
       "    </tr>\n",
       "    <tr>\n",
       "      <td>3000</td>\n",
       "      <td>1.212800</td>\n",
       "      <td>1.377123</td>\n",
       "    </tr>\n",
       "    <tr>\n",
       "      <td>3200</td>\n",
       "      <td>1.207700</td>\n",
       "      <td>1.375185</td>\n",
       "    </tr>\n",
       "    <tr>\n",
       "      <td>3400</td>\n",
       "      <td>1.221800</td>\n",
       "      <td>1.376788</td>\n",
       "    </tr>\n",
       "    <tr>\n",
       "      <td>3600</td>\n",
       "      <td>1.226600</td>\n",
       "      <td>1.375176</td>\n",
       "    </tr>\n",
       "    <tr>\n",
       "      <td>3800</td>\n",
       "      <td>1.207000</td>\n",
       "      <td>1.375125</td>\n",
       "    </tr>\n",
       "    <tr>\n",
       "      <td>4000</td>\n",
       "      <td>1.202400</td>\n",
       "      <td>1.374122</td>\n",
       "    </tr>\n",
       "  </tbody>\n",
       "</table><p>"
      ],
      "text/plain": [
       "<IPython.core.display.HTML object>"
      ]
     },
     "metadata": {},
     "output_type": "display_data"
    },
    {
     "data": {
      "text/plain": [
       "TrainOutput(global_step=4161, training_loss=1.306211645744707, metrics={'train_runtime': 14895.1274, 'train_samples_per_second': 4.469, 'train_steps_per_second': 0.279, 'total_flos': 1.2309507749250662e+17, 'train_loss': 1.306211645744707, 'epoch': 3.0})"
      ]
     },
     "execution_count": 43,
     "metadata": {},
     "output_type": "execute_result"
    }
   ],
   "source": [
    "trainer.train()"
   ]
  },
  {
   "cell_type": "code",
   "execution_count": 44,
   "id": "74d24a83-249b-4df8-9e8d-5fabab6e94de",
   "metadata": {},
   "outputs": [],
   "source": [
    "logs = pd.DataFrame(trainer.state.log_history)\n",
    "\n",
    "train_logs = logs[logs[\"loss\"].notnull()]\n",
    "eval_logs = logs[logs[\"eval_loss\"].notnull()]"
   ]
  },
  {
   "cell_type": "code",
   "execution_count": 45,
   "id": "6b8e4024-6aeb-4cac-bdf4-78d6ad073e13",
   "metadata": {},
   "outputs": [
    {
     "data": {
      "image/png": "[encoded data removed]",
      "text/plain": [
       "<Figure size 1200x800 with 1 Axes>"
      ]
     },
     "metadata": {},
     "output_type": "display_data"
    }
   ],
   "source": [
    "plt.figure(figsize=(12, 8))\n",
    "\n",
    "plt.plot(\n",
    "    train_logs[\"step\"], \n",
    "    train_logs[\"loss\"], \n",
    "    marker=\"o\",\n",
    "    linestyle=\"--\",\n",
    "    alpha=0.8,\n",
    "    color='#6A0572',           \n",
    "    markerfacecolor='#FF6B6B', \n",
    "    markeredgecolor='black'\n",
    ")\n",
    "\n",
    "plt.xlabel(\"Step\")\n",
    "plt.ylabel(\"Loss\")\n",
    "plt.title(\"Training Loss\")\n",
    "plt.grid(True);"
   ]
  },
  {
   "cell_type": "code",
   "execution_count": 46,
   "id": "1bc5b3da-7222-4666-82c3-7ad3a5cd8742",
   "metadata": {},
   "outputs": [
    {
     "data": {
      "image/png": "[encoded data removed]",
      "text/plain": [
       "<Figure size 1200x800 with 1 Axes>"
      ]
     },
     "metadata": {},
     "output_type": "display_data"
    }
   ],
   "source": [
    "plt.figure(figsize=(12, 8))\n",
    "\n",
    "plt.plot(\n",
    "    eval_logs[\"step\"], \n",
    "    eval_logs[\"eval_loss\"], \n",
    "    marker=\"o\",\n",
    "    linestyle=\"--\",\n",
    "    alpha=0.8,\n",
    "    color='#6A0572',           \n",
    "    markerfacecolor='#FF6B6B', \n",
    "    markeredgecolor='black'\n",
    ")\n",
    "\n",
    "plt.xlabel(\"Step\")\n",
    "plt.ylabel(\"Loss\")\n",
    "plt.title(\"Validation Loss\")\n",
    "plt.grid(True);"
   ]
  },
  {
   "cell_type": "markdown",
   "id": "3c5be1b8-f80a-466d-b148-eeb61ca8d8e2",
   "metadata": {},
   "source": [
    "# **5. Model to Hub Pushing**"
   ]
  },
  {
   "cell_type": "code",
   "execution_count": 2,
   "id": "ea33cb08-4684-453f-ad54-2da253002ca9",
   "metadata": {},
   "outputs": [
    {
     "name": "stderr",
     "output_type": "stream",
     "text": [
      "`torch_dtype` is deprecated! Use `dtype` instead!\n"
     ]
    },
    {
     "data": {
      "application/vnd.jupyter.widget-view+json": {
       "model_id": "4b5d74a201f84bcca067a72d22d6ff34",
       "version_major": 2,
       "version_minor": 0
      },
      "text/plain": [
       "Loading checkpoint shards:   0%|          | 0/2 [00:00<?, ?it/s]"
      ]
     },
     "metadata": {},
     "output_type": "display_data"
    },
    {
     "data": {
      "application/vnd.jupyter.widget-view+json": {
       "model_id": "4d4e1edfef444321ba3b99d21f262945",
       "version_major": 2,
       "version_minor": 0
      },
      "text/plain": [
       "Processing Files (0 / 0)                : |          |  0.00B /  0.00B            "
      ]
     },
     "metadata": {},
     "output_type": "display_data"
    },
    {
     "data": {
      "application/vnd.jupyter.widget-view+json": {
       "model_id": "3bb520adb3744f2cb5ecc3e81b97a665",
       "version_major": 2,
       "version_minor": 0
      },
      "text/plain": [
       "New Data Upload                         : |          |  0.00B /  0.00B            "
      ]
     },
     "metadata": {},
     "output_type": "display_data"
    },
    {
     "data": {
      "application/vnd.jupyter.widget-view+json": {
       "model_id": "819128f7e6364e70848dc8df16cbf862",
       "version_major": 2,
       "version_minor": 0
      },
      "text/plain": [
       "  ...jt/model-00001-of-00002.safetensors:   2%|1         | 92.3MB / 4.99GB            "
      ]
     },
     "metadata": {},
     "output_type": "display_data"
    },
    {
     "data": {
      "application/vnd.jupyter.widget-view+json": {
       "model_id": "1372740a218f4d9bbccc50676dcfdf63",
       "version_major": 2,
       "version_minor": 0
      },
      "text/plain": [
       "  ...jt/model-00002-of-00002.safetensors:  35%|###4      | 83.9MB /  241MB            "
      ]
     },
     "metadata": {},
     "output_type": "display_data"
    },
    {
     "data": {
      "application/vnd.jupyter.widget-view+json": {
       "model_id": "cfea09181dde450f8dec282b0f871aba",
       "version_major": 2,
       "version_minor": 0
      },
      "text/plain": [
       "Processing Files (0 / 0)                : |          |  0.00B /  0.00B            "
      ]
     },
     "metadata": {},
     "output_type": "display_data"
    },
    {
     "data": {
      "application/vnd.jupyter.widget-view+json": {
       "model_id": "e3ee4ea6377e4318b77b8de7ee8f832d",
       "version_major": 2,
       "version_minor": 0
      },
      "text/plain": [
       "New Data Upload                         : |          |  0.00B /  0.00B            "
      ]
     },
     "metadata": {},
     "output_type": "display_data"
    },
    {
     "data": {
      "application/vnd.jupyter.widget-view+json": {
       "model_id": "f42094f8bc92473d880f716845441242",
       "version_major": 2,
       "version_minor": 0
      },
      "text/plain": [
       "  /tmp/tmpv0b831cx/tokenizer.model      : 100%|##########| 4.24MB / 4.24MB            "
      ]
     },
     "metadata": {},
     "output_type": "display_data"
    },
    {
     "data": {
      "application/vnd.jupyter.widget-view+json": {
       "model_id": "f6e3683feddc451daea507558757cbef",
       "version_major": 2,
       "version_minor": 0
      },
      "text/plain": [
       "  /tmp/tmpv0b831cx/tokenizer.json       : 100%|##########| 34.4MB / 34.4MB            "
      ]
     },
     "metadata": {},
     "output_type": "display_data"
    },
    {
     "name": "stderr",
     "output_type": "stream",
     "text": [
      "No files have been modified since last commit. Skipping to prevent empty commit.\n"
     ]
    },
    {
     "data": {
      "text/plain": [
       "CommitInfo(commit_url='https://huggingface.co/aeternnar/gemma-2-2B-full/commit/1728b1fe58de7ac6eb45f210f9ccd47361508f8d', commit_message='Upload tokenizer', commit_description='', oid='1728b1fe58de7ac6eb45f210f9ccd47361508f8d', pr_url=None, repo_url=RepoUrl('https://huggingface.co/aeternnar/gemma-2-2B-full', endpoint='https://huggingface.co', repo_type='model', repo_id='aeternnar/gemma-2-2B-full'), pr_revision=None, pr_num=None)"
      ]
     },
     "execution_count": 2,
     "metadata": {},
     "output_type": "execute_result"
    }
   ],
   "source": [
    "from transformers import AutoTokenizer, AutoModelForCausalLM\n",
    "\n",
    "base_model_path = \"./gemma-2-2b-it\"\n",
    "model_name = \"gemma-2-2B-full\"\n",
    "\n",
    "tokenizer = AutoTokenizer.from_pretrained(base_model_path)\n",
    "base_model = AutoModelForCausalLM.from_pretrained(\n",
    "    base_model_path,\n",
    "    device_map=\"auto\",\n",
    "    torch_dtype=torch.float16\n",
    ")\n",
    "\n",
    "base_model.push_to_hub(model_name)\n",
    "tokenizer.push_to_hub(model_name)"
   ]
  },
  {
   "cell_type": "code",
   "execution_count": 3,
   "id": "21788b06-a021-4528-986b-2d9b611c53fb",
   "metadata": {},
   "outputs": [
    {
     "data": {
      "application/vnd.jupyter.widget-view+json": {
       "model_id": "087e77b9bd3b46c8abc3b69996ad796c",
       "version_major": 2,
       "version_minor": 0
      },
      "text/plain": [
       "Processing Files (0 / 0)                : |          |  0.00B /  0.00B            "
      ]
     },
     "metadata": {},
     "output_type": "display_data"
    },
    {
     "data": {
      "application/vnd.jupyter.widget-view+json": {
       "model_id": "c9daeaf1f9ee4157bb6894a3ea90797b",
       "version_major": 2,
       "version_minor": 0
      },
      "text/plain": [
       "New Data Upload                         : |          |  0.00B /  0.00B            "
      ]
     },
     "metadata": {},
     "output_type": "display_data"
    },
    {
     "data": {
      "application/vnd.jupyter.widget-view+json": {
       "model_id": "43bf814dac404010a705b5531782bd75",
       "version_major": 2,
       "version_minor": 0
      },
      "text/plain": [
       "  ...p9xk4470_/adapter_model.safetensors: 100%|##########| 12.8MB / 12.8MB            "
      ]
     },
     "metadata": {},
     "output_type": "display_data"
    },
    {
     "data": {
      "application/vnd.jupyter.widget-view+json": {
       "model_id": "34b40c7ae60a4beca5353726ac2267c4",
       "version_major": 2,
       "version_minor": 0
      },
      "text/plain": [
       "README.md: 0.00B [00:00, ?B/s]"
      ]
     },
     "metadata": {},
     "output_type": "display_data"
    },
    {
     "data": {
      "application/vnd.jupyter.widget-view+json": {
       "model_id": "69a51eda89e6407089ca9b05aa38cbc8",
       "version_major": 2,
       "version_minor": 0
      },
      "text/plain": [
       "Processing Files (0 / 0)                : |          |  0.00B /  0.00B            "
      ]
     },
     "metadata": {},
     "output_type": "display_data"
    },
    {
     "data": {
      "application/vnd.jupyter.widget-view+json": {
       "model_id": "bf2f021b27444199a2def66562d11414",
       "version_major": 2,
       "version_minor": 0
      },
      "text/plain": [
       "New Data Upload                         : |          |  0.00B /  0.00B            "
      ]
     },
     "metadata": {},
     "output_type": "display_data"
    },
    {
     "data": {
      "application/vnd.jupyter.widget-view+json": {
       "model_id": "74fcfc9b7a9e45f3b3273b088bf41ac2",
       "version_major": 2,
       "version_minor": 0
      },
      "text/plain": [
       "  /tmp/tmpvo_o_s93/tokenizer.model      : 100%|##########| 4.24MB / 4.24MB            "
      ]
     },
     "metadata": {},
     "output_type": "display_data"
    },
    {
     "data": {
      "application/vnd.jupyter.widget-view+json": {
       "model_id": "3555c7cfc91e4911bf14d01b172b858c",
       "version_major": 2,
       "version_minor": 0
      },
      "text/plain": [
       "  /tmp/tmpvo_o_s93/tokenizer.json       : 100%|##########| 34.4MB / 34.4MB            "
      ]
     },
     "metadata": {},
     "output_type": "display_data"
    },
    {
     "data": {
      "text/plain": [
       "CommitInfo(commit_url='https://huggingface.co/aeternnar/gemma-2-2B-clinical-assistant-peft/commit/13588068116481fe17e27ab8eaad046a1930269b', commit_message='Upload tokenizer', commit_description='', oid='13588068116481fe17e27ab8eaad046a1930269b', pr_url=None, repo_url=RepoUrl('https://huggingface.co/aeternnar/gemma-2-2B-clinical-assistant-peft', endpoint='https://huggingface.co', repo_type='model', repo_id='aeternnar/gemma-2-2B-clinical-assistant-peft'), pr_revision=None, pr_num=None)"
      ]
     },
     "execution_count": 3,
     "metadata": {},
     "output_type": "execute_result"
    }
   ],
   "source": [
    "from peft import PeftModel\n",
    "\n",
    "lora_path = \"./gemma-lora/checkpoint-2600\"\n",
    "model = PeftModel.from_pretrained(base_model, lora_path)\n",
    "\n",
    "model.push_to_hub(\"gemma-2-2B-clinical-assistant-peft\")\n",
    "tokenizer.push_to_hub(\"gemma-2-2B-clinical-assistant-peft\")"
   ]
  },
  {
   "cell_type": "code",
   "execution_count": 4,
   "id": "7b7c9550-7ee8-4e82-b111-7defa0f9ab30",
   "metadata": {},
   "outputs": [
    {
     "data": {
      "application/vnd.jupyter.widget-view+json": {
       "model_id": "423782ccbf82408c8554318f79610887",
       "version_major": 2,
       "version_minor": 0
      },
      "text/plain": [
       "tokenizer_config.json: 0.00B [00:00, ?B/s]"
      ]
     },
     "metadata": {},
     "output_type": "display_data"
    },
    {
     "data": {
      "application/vnd.jupyter.widget-view+json": {
       "model_id": "506c9cd46ead40e48fbacb9280714b13",
       "version_major": 2,
       "version_minor": 0
      },
      "text/plain": [
       "tokenizer.model:   0%|          | 0.00/4.24M [00:00<?, ?B/s]"
      ]
     },
     "metadata": {},
     "output_type": "display_data"
    },
    {
     "data": {
      "application/vnd.jupyter.widget-view+json": {
       "model_id": "1bab4ddbef4f4dd8bf97d12635ff2856",
       "version_major": 2,
       "version_minor": 0
      },
      "text/plain": [
       "tokenizer.json:   0%|          | 0.00/34.4M [00:00<?, ?B/s]"
      ]
     },
     "metadata": {},
     "output_type": "display_data"
    },
    {
     "data": {
      "application/vnd.jupyter.widget-view+json": {
       "model_id": "852021178b1d4d12b3df6178c1f11dee",
       "version_major": 2,
       "version_minor": 0
      },
      "text/plain": [
       "special_tokens_map.json:   0%|          | 0.00/636 [00:00<?, ?B/s]"
      ]
     },
     "metadata": {},
     "output_type": "display_data"
    },
    {
     "data": {
      "application/vnd.jupyter.widget-view+json": {
       "model_id": "325f7eca946c4353bb5c16fd8607f3c7",
       "version_major": 2,
       "version_minor": 0
      },
      "text/plain": [
       "chat_template.jinja:   0%|          | 0.00/591 [00:00<?, ?B/s]"
      ]
     },
     "metadata": {},
     "output_type": "display_data"
    },
    {
     "data": {
      "application/vnd.jupyter.widget-view+json": {
       "model_id": "7674a352f11a4b97b9b3492568c2d435",
       "version_major": 2,
       "version_minor": 0
      },
      "text/plain": [
       "config.json: 0.00B [00:00, ?B/s]"
      ]
     },
     "metadata": {},
     "output_type": "display_data"
    },
    {
     "data": {
      "application/vnd.jupyter.widget-view+json": {
       "model_id": "f6fe63742ac346ebb96452fa21133c86",
       "version_major": 2,
       "version_minor": 0
      },
      "text/plain": [
       "model.safetensors.index.json: 0.00B [00:00, ?B/s]"
      ]
     },
     "metadata": {},
     "output_type": "display_data"
    },
    {
     "data": {
      "application/vnd.jupyter.widget-view+json": {
       "model_id": "443569e333074b87a0d0f0f4c9e38848",
       "version_major": 2,
       "version_minor": 0
      },
      "text/plain": [
       "Fetching 2 files:   0%|          | 0/2 [00:00<?, ?it/s]"
      ]
     },
     "metadata": {},
     "output_type": "display_data"
    },
    {
     "data": {
      "application/vnd.jupyter.widget-view+json": {
       "model_id": "ebe63e696bee43b3bf783eb6e5c0a46e",
       "version_major": 2,
       "version_minor": 0
      },
      "text/plain": [
       "model-00001-of-00002.safetensors:   0%|          | 0.00/4.99G [00:00<?, ?B/s]"
      ]
     },
     "metadata": {},
     "output_type": "display_data"
    },
    {
     "data": {
      "application/vnd.jupyter.widget-view+json": {
       "model_id": "03fb78f31dba4f8c8799ca9dfcd20a98",
       "version_major": 2,
       "version_minor": 0
      },
      "text/plain": [
       "model-00002-of-00002.safetensors:   0%|          | 0.00/241M [00:00<?, ?B/s]"
      ]
     },
     "metadata": {},
     "output_type": "display_data"
    },
    {
     "data": {
      "application/vnd.jupyter.widget-view+json": {
       "model_id": "1e694ef792314cbeae0beadaac36dfe7",
       "version_major": 2,
       "version_minor": 0
      },
      "text/plain": [
       "Loading checkpoint shards:   0%|          | 0/2 [00:00<?, ?it/s]"
      ]
     },
     "metadata": {},
     "output_type": "display_data"
    },
    {
     "data": {
      "application/vnd.jupyter.widget-view+json": {
       "model_id": "f50e17bfe5b240508676c1b6cdd9ed24",
       "version_major": 2,
       "version_minor": 0
      },
      "text/plain": [
       "generation_config.json:   0%|          | 0.00/187 [00:00<?, ?B/s]"
      ]
     },
     "metadata": {},
     "output_type": "display_data"
    },
    {
     "data": {
      "application/vnd.jupyter.widget-view+json": {
       "model_id": "170c6f39234547fa9108911622629aab",
       "version_major": 2,
       "version_minor": 0
      },
      "text/plain": [
       "adapter_config.json:   0%|          | 0.00/983 [00:00<?, ?B/s]"
      ]
     },
     "metadata": {},
     "output_type": "display_data"
    },
    {
     "data": {
      "application/vnd.jupyter.widget-view+json": {
       "model_id": "693ca1326cf34ebbab6d6bda5286c0c7",
       "version_major": 2,
       "version_minor": 0
      },
      "text/plain": [
       "adapter_model.safetensors:   0%|          | 0.00/12.8M [00:00<?, ?B/s]"
      ]
     },
     "metadata": {},
     "output_type": "display_data"
    }
   ],
   "source": [
    "from transformers import AutoTokenizer, AutoModelForCausalLM\n",
    "from peft import PeftModel\n",
    "\n",
    "base_model_name = \"aeternnar/gemma-2-2B-full\"\n",
    "lora_model_name = \"aeternnar/gemma-2-2B-clinical-assistant-peft\"\n",
    "\n",
    "tokenizer = AutoTokenizer.from_pretrained(base_model_name)\n",
    "base_model = AutoModelForCausalLM.from_pretrained(\n",
    "    base_model_name,\n",
    "    device_map=\"auto\",\n",
    "    torch_dtype=torch.float16\n",
    ")\n",
    "\n",
    "model = PeftModel.from_pretrained(base_model, lora_model_name).to(\"cuda\")"
   ]
  },
  {
   "cell_type": "markdown",
   "id": "6193b195-5215-4402-841b-caf79effc7a0",
   "metadata": {},
   "source": [
    "# **6. Model Evaluiation**"
   ]
  },
  {
   "cell_type": "code",
   "execution_count": 32,
   "id": "3b83d247-a625-4c72-823c-783c74600e9b",
   "metadata": {},
   "outputs": [],
   "source": [
    "test_dataset = tokenized_dataset['test'].remove_columns([\"text\"])"
   ]
  },
  {
   "cell_type": "code",
   "execution_count": 33,
   "id": "7c0b86a1-2bb8-4ab3-8dbc-a0b83c5a7a73",
   "metadata": {},
   "outputs": [
    {
     "data": {
      "text/plain": [
       "Dataset({\n",
       "    features: ['input_ids', 'labels'],\n",
       "    num_rows: 1233\n",
       "})"
      ]
     },
     "execution_count": 33,
     "metadata": {},
     "output_type": "execute_result"
    }
   ],
   "source": [
    "test_dataset"
   ]
  },
  {
   "cell_type": "code",
   "execution_count": 34,
   "id": "c9a8b1f7-5b08-45d2-a19b-fd74cfd1efc9",
   "metadata": {},
   "outputs": [
    {
     "data": {
      "application/vnd.jupyter.widget-view+json": {
       "model_id": "a5244329f0ad46a295ce30829e014aab",
       "version_major": 2,
       "version_minor": 0
      },
      "text/plain": [
       "Map:   0%|          | 0/1233 [00:00<?, ? examples/s]"
      ]
     },
     "metadata": {},
     "output_type": "display_data"
    }
   ],
   "source": [
    "from datasets import Dataset\n",
    "\n",
    "def split_prompt_answer(example):\n",
    "    labels = example[\"labels\"]\n",
    "    non_mask_idxs = [i for i, v in enumerate(labels) if v != -100]\n",
    "    start_idx = non_mask_idxs[0] if non_mask_idxs else len(example[\"input_ids\"])\n",
    "    example[\"prompt_ids\"] = example[\"input_ids\"][:start_idx]\n",
    "    example[\"answer_ids\"] = example[\"input_ids\"][start_idx:]\n",
    "    return example\n",
    "\n",
    "test_examples = test_dataset.map(split_prompt_answer)"
   ]
  },
  {
   "cell_type": "code",
   "execution_count": 37,
   "id": "7d200300-ca32-4abe-9099-ca0204fb2e70",
   "metadata": {},
   "outputs": [],
   "source": [
    "from tqdm import tqdm\n",
    "import evaluate\n",
    "\n",
    "device = 'cuda' if torch.cuda.is_available() else 'cpu'\n",
    "\n",
    "rouge_metric = evaluate.load(\"rouge\")\n",
    "bertscore_metric = evaluate.load(\"bertscore\")\n",
    "sacrebleu_metric = evaluate.load(\"sacrebleu\")"
   ]
  },
  {
   "cell_type": "code",
   "execution_count": 39,
   "id": "293da7c0-a494-441b-b923-dc07cd581436",
   "metadata": {},
   "outputs": [
    {
     "name": "stderr",
     "output_type": "stream",
     "text": [
      "100%|██████████████████████████████████████████████████████████| 1233/1233 [34:04<00:00,  1.66s/it]\n"
     ]
    },
    {
     "name": "stdout",
     "output_type": "stream",
     "text": [
      "SacreBLEU: 13.8211\n",
      "---\n",
      "ROUGE-1: 0.4173\n",
      "ROUGE-2: 0.2115\n",
      "ROUGE-L: 0.3427\n",
      "ROUGE-Lsum: 0.3426\n",
      "---\n",
      "BERTScore Precision: 0.9192\n",
      "BERTScore Recall: 0.9020\n",
      "BERTScore F1: 0.9103\n"
     ]
    }
   ],
   "source": [
    "import gc\n",
    "\n",
    "all_preds = []\n",
    "all_labels = []\n",
    "all_bleu_scores = []\n",
    "\n",
    "for ex in tqdm(test_examples):\n",
    "    input_ids = torch.tensor([ex['prompt_ids']], device=device)\n",
    "    \n",
    "    with torch.no_grad():\n",
    "        generated_ids = model.generate(\n",
    "            input_ids=input_ids,\n",
    "            max_new_tokens=150,\n",
    "            do_sample=False,\n",
    "            pad_token_id=tokenizer.pad_token_id\n",
    "        )\n",
    "    \n",
    "    pred_text = tokenizer.decode(generated_ids[0][len(ex['prompt_ids']):], skip_special_tokens=True)\n",
    "    label_text = tokenizer.decode([id for id in ex['answer_ids'] if id != -100], skip_special_tokens=True)\n",
    "\n",
    "    all_preds.append(pred_text)\n",
    "    all_labels.append(label_text)\n",
    "\n",
    "    del input_ids, generated_ids\n",
    "    torch.cuda.empty_cache()\n",
    "    gc.collect()\n",
    "\n",
    "rouge_res = rouge_metric.compute(predictions=all_preds, references=all_labels)\n",
    "bertscore_res = bertscore_metric.compute(\n",
    "    predictions=all_preds, \n",
    "    references=all_labels, \n",
    "    lang=\"en\",\n",
    "    batch_size=4\n",
    ")\n",
    "\n",
    "sacrebleu_res = sacrebleu_metric.compute(predictions=all_preds, references=all_labels)\n",
    "\n",
    "print(f\"SacreBLEU: {sacrebleu_res['score']:.4f}\")\n",
    "print(\"---\")\n",
    "print(f\"ROUGE-1: {rouge_res['rouge1']:.4f}\")\n",
    "print(f\"ROUGE-2: {rouge_res['rouge2']:.4f}\")\n",
    "print(f\"ROUGE-L: {rouge_res['rougeL']:.4f}\")\n",
    "print(f\"ROUGE-Lsum: {rouge_res['rougeLsum']:.4f}\")\n",
    "print(\"---\")\n",
    "print(f\"BERTScore Precision: {np.mean(bertscore_res['precision']):.4f}\")\n",
    "print(f\"BERTScore Recall: {np.mean(bertscore_res['recall']):.4f}\")\n",
    "print(f\"BERTScore F1: {np.mean(bertscore_res['f1']):.4f}\")"
   ]
  }
 ],
 "metadata": {
  "kernelspec": {
   "display_name": "Python (NLP)",
   "language": "python",
   "name": "nlp"
  },
  "language_info": {
   "codemirror_mode": {
    "name": "ipython",
    "version": 3
   },
   "file_extension": ".py",
   "mimetype": "text/x-python",
   "name": "python",
   "nbconvert_exporter": "python",
   "pygments_lexer": "ipython3",
   "version": "3.10.13"
  }
 },
 "nbformat": 4,
 "nbformat_minor": 5
}

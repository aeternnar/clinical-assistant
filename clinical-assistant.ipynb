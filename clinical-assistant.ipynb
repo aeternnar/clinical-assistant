{
 "cells": [
  {
   "cell_type": "code",
   "execution_count": 26,
   "id": "0dfffef9-9342-49ba-a3e5-0c2a41765f0a",
   "metadata": {},
   "outputs": [],
   "source": [
    "import numpy as np\n",
    "import pandas as pd\n",
    "import matplotlib.pyplot as plt\n",
    "import seaborn as sns\n",
    "sns.set_style('darkgrid')"
   ]
  },
  {
   "cell_type": "code",
   "execution_count": 27,
   "id": "a86b22bb-f697-4b5f-919b-4edbfbde08c6",
   "metadata": {},
   "outputs": [],
   "source": [
    "df_origin = pd.read_csv('./dataset.csv')"
   ]
  },
  {
   "cell_type": "code",
   "execution_count": 28,
   "id": "a4452ab1-680b-40a1-bac0-3c1fa6047c86",
   "metadata": {},
   "outputs": [
    {
     "data": {
      "text/html": [
       "<div>\n",
       "<style scoped>\n",
       "    .dataframe tbody tr th:only-of-type {\n",
       "        vertical-align: middle;\n",
       "    }\n",
       "\n",
       "    .dataframe tbody tr th {\n",
       "        vertical-align: top;\n",
       "    }\n",
       "\n",
       "    .dataframe thead th {\n",
       "        text-align: right;\n",
       "    }\n",
       "</style>\n",
       "<table border=\"1\" class=\"dataframe\">\n",
       "  <thead>\n",
       "    <tr style=\"text-align: right;\">\n",
       "      <th></th>\n",
       "      <th>text</th>\n",
       "      <th>raw_data_id</th>\n",
       "    </tr>\n",
       "  </thead>\n",
       "  <tbody>\n",
       "    <tr>\n",
       "      <th>0</th>\n",
       "      <td>&lt;|user|&gt; What is high blood pressure? &lt;|eos|&gt; ...</td>\n",
       "      <td>0</td>\n",
       "    </tr>\n",
       "    <tr>\n",
       "      <th>1</th>\n",
       "      <td>&lt;|user|&gt; What are the risks of high blood pres...</td>\n",
       "      <td>0</td>\n",
       "    </tr>\n",
       "    <tr>\n",
       "      <th>2</th>\n",
       "      <td>&lt;|user|&gt; How is high blood pressure diagnosed?...</td>\n",
       "      <td>0</td>\n",
       "    </tr>\n",
       "    <tr>\n",
       "      <th>3</th>\n",
       "      <td>&lt;|user|&gt; What are the lifestyle changes that c...</td>\n",
       "      <td>0</td>\n",
       "    </tr>\n",
       "    <tr>\n",
       "      <th>4</th>\n",
       "      <td>&lt;|user|&gt; What are the medicines used to contro...</td>\n",
       "      <td>0</td>\n",
       "    </tr>\n",
       "  </tbody>\n",
       "</table>\n",
       "</div>"
      ],
      "text/plain": [
       "                                                text  raw_data_id\n",
       "0  <|user|> What is high blood pressure? <|eos|> ...            0\n",
       "1  <|user|> What are the risks of high blood pres...            0\n",
       "2  <|user|> How is high blood pressure diagnosed?...            0\n",
       "3  <|user|> What are the lifestyle changes that c...            0\n",
       "4  <|user|> What are the medicines used to contro...            0"
      ]
     },
     "execution_count": 28,
     "metadata": {},
     "output_type": "execute_result"
    }
   ],
   "source": [
    "df_origin.head()"
   ]
  },
  {
   "cell_type": "code",
   "execution_count": 29,
   "id": "74d810d7-cdcd-427e-9d21-9ec7ef957b1f",
   "metadata": {},
   "outputs": [],
   "source": [
    "df = df_origin.drop(columns=['raw_data_id'], axis=1)"
   ]
  },
  {
   "cell_type": "code",
   "execution_count": 30,
   "id": "e96c34be-c96d-49f8-ba0e-52397f477e20",
   "metadata": {},
   "outputs": [
    {
     "data": {
      "text/html": [
       "<div>\n",
       "<style scoped>\n",
       "    .dataframe tbody tr th:only-of-type {\n",
       "        vertical-align: middle;\n",
       "    }\n",
       "\n",
       "    .dataframe tbody tr th {\n",
       "        vertical-align: top;\n",
       "    }\n",
       "\n",
       "    .dataframe thead th {\n",
       "        text-align: right;\n",
       "    }\n",
       "</style>\n",
       "<table border=\"1\" class=\"dataframe\">\n",
       "  <thead>\n",
       "    <tr style=\"text-align: right;\">\n",
       "      <th></th>\n",
       "      <th>text</th>\n",
       "    </tr>\n",
       "  </thead>\n",
       "  <tbody>\n",
       "    <tr>\n",
       "      <th>0</th>\n",
       "      <td>&lt;|user|&gt; What is high blood pressure? &lt;|eos|&gt; ...</td>\n",
       "    </tr>\n",
       "    <tr>\n",
       "      <th>1</th>\n",
       "      <td>&lt;|user|&gt; What are the risks of high blood pres...</td>\n",
       "    </tr>\n",
       "    <tr>\n",
       "      <th>2</th>\n",
       "      <td>&lt;|user|&gt; How is high blood pressure diagnosed?...</td>\n",
       "    </tr>\n",
       "    <tr>\n",
       "      <th>3</th>\n",
       "      <td>&lt;|user|&gt; What are the lifestyle changes that c...</td>\n",
       "    </tr>\n",
       "    <tr>\n",
       "      <th>4</th>\n",
       "      <td>&lt;|user|&gt; What are the medicines used to contro...</td>\n",
       "    </tr>\n",
       "  </tbody>\n",
       "</table>\n",
       "</div>"
      ],
      "text/plain": [
       "                                                text\n",
       "0  <|user|> What is high blood pressure? <|eos|> ...\n",
       "1  <|user|> What are the risks of high blood pres...\n",
       "2  <|user|> How is high blood pressure diagnosed?...\n",
       "3  <|user|> What are the lifestyle changes that c...\n",
       "4  <|user|> What are the medicines used to contro..."
      ]
     },
     "execution_count": 30,
     "metadata": {},
     "output_type": "execute_result"
    }
   ],
   "source": [
    "df.head()"
   ]
  },
  {
   "cell_type": "code",
   "execution_count": 31,
   "id": "ffe62e97-8263-4b19-913b-c97c83373d9e",
   "metadata": {},
   "outputs": [
    {
     "name": "stdout",
     "output_type": "stream",
     "text": [
      "<|user|> What is high blood pressure? <|eos|> <|ai|> High blood pressure is a condition where the force at which your heart pumps blood around your body is high. It is recorded with 2 numbers, the systolic pressure and the diastolic pressure, both measured in millimetres of mercury (mmHg).\n",
      "References:\n",
      "- https://www.nhs.uk/conditions/Blood-pressure-(high)/Pages/Introduction.aspx <|eos|> <|eod|>\n",
      "\n",
      "**************************************************\n",
      "\n",
      "<|user|> What are the risks of high blood pressure? <|eos|> <|ai|> Persistent high blood pressure can put extra strain on your blood vessels, heart, and other organs, such as the brain, kidneys, and eyes. It can increase your risk of serious and potentially life-threatening health conditions, such as heart disease, heart attacks, strokes, heart failure, peripheral arterial disease, aortic aneurysms, kidney disease, and vascular dementia.\n",
      "References:\n",
      "- https://www.nhs.uk/conditions/Blood-pressure-(high)/Pages/Introduction.aspx <|eos|> <|eod|>\n",
      "\n",
      "**************************************************\n",
      "\n",
      "<|user|> How is high blood pressure diagnosed? <|eos|> <|ai|> The only way of knowing whether you have high blood pressure is to have a blood pressure test, which can be done at your GP surgery, some pharmacies, as part of your NHS Health Check, or in some workplaces. All adults over 40 are advised to have their blood pressure checked at least every 5 years.\n",
      "References:\n",
      "- https://www.nhs.uk/conditions/Blood-pressure-(high)/Pages/Introduction.aspx <|eos|> <|eod|>\n",
      "\n",
      "**************************************************\n",
      "\n",
      "<|user|> What are the lifestyle changes that can help reduce blood pressure? <|eos|> <|ai|> Lifestyle changes that can help prevent and lower high blood pressure include reducing the amount of salt you eat and having a generally healthy diet, cutting back on alcohol, losing weight if you're overweight, exercising regularly, cutting down on caffeine, and stopping smoking.\n",
      "References:\n",
      "- https://www.nhs.uk/conditions/Blood-pressure-(high)/Pages/Introduction.aspx <|eos|> <|eod|>\n",
      "\n",
      "**************************************************\n",
      "\n",
      "<|user|> What are the medicines used to control high blood pressure? <|eos|> <|ai|> Common blood pressure medicines include ACE inhibitors, angiotensin-2 receptor blockers (ARBs), calcium channel blockers, diuretics, beta blockers, alpha blockers, and other diuretics. The medicine recommended for you will depend on factors like how high your blood pressure is, your age, and your ethnicity.\n",
      "References:\n",
      "- https://www.nhs.uk/conditions/Blood-pressure-(high)/Pages/Introduction.aspx <|eos|> <|eod|>\n",
      "\n",
      "**************************************************\n",
      "\n"
     ]
    }
   ],
   "source": [
    "for i in range(5):\n",
    "    print(f'{df.loc[i, \"text\"]}\\n\\n' + '*' * 50 + '\\n')"
   ]
  },
  {
   "cell_type": "code",
   "execution_count": 35,
   "id": "b6e737c4-b683-4c4a-b871-a5ceebe50002",
   "metadata": {},
   "outputs": [],
   "source": [
    "df['text'] = df['text'].str.split('References:').str[0].str.strip() + ' <|eos|> <|eod|>'"
   ]
  },
  {
   "cell_type": "code",
   "execution_count": 37,
   "id": "9bf8c521-3cd6-48d5-a7ac-056a25682092",
   "metadata": {},
   "outputs": [
    {
     "name": "stdout",
     "output_type": "stream",
     "text": [
      "<|user|> What is high blood pressure? <|eos|> <|ai|> High blood pressure is a condition where the force at which your heart pumps blood around your body is high. It is recorded with 2 numbers, the systolic pressure and the diastolic pressure, both measured in millimetres of mercury (mmHg). <|eos|> <|eod|>\n",
      "\n",
      "**************************************************\n",
      "\n",
      "<|user|> What are the risks of high blood pressure? <|eos|> <|ai|> Persistent high blood pressure can put extra strain on your blood vessels, heart, and other organs, such as the brain, kidneys, and eyes. It can increase your risk of serious and potentially life-threatening health conditions, such as heart disease, heart attacks, strokes, heart failure, peripheral arterial disease, aortic aneurysms, kidney disease, and vascular dementia. <|eos|> <|eod|>\n",
      "\n",
      "**************************************************\n",
      "\n",
      "<|user|> How is high blood pressure diagnosed? <|eos|> <|ai|> The only way of knowing whether you have high blood pressure is to have a blood pressure test, which can be done at your GP surgery, some pharmacies, as part of your NHS Health Check, or in some workplaces. All adults over 40 are advised to have their blood pressure checked at least every 5 years. <|eos|> <|eod|>\n",
      "\n",
      "**************************************************\n",
      "\n",
      "<|user|> What are the lifestyle changes that can help reduce blood pressure? <|eos|> <|ai|> Lifestyle changes that can help prevent and lower high blood pressure include reducing the amount of salt you eat and having a generally healthy diet, cutting back on alcohol, losing weight if you're overweight, exercising regularly, cutting down on caffeine, and stopping smoking. <|eos|> <|eod|>\n",
      "\n",
      "**************************************************\n",
      "\n",
      "<|user|> What are the medicines used to control high blood pressure? <|eos|> <|ai|> Common blood pressure medicines include ACE inhibitors, angiotensin-2 receptor blockers (ARBs), calcium channel blockers, diuretics, beta blockers, alpha blockers, and other diuretics. The medicine recommended for you will depend on factors like how high your blood pressure is, your age, and your ethnicity. <|eos|> <|eod|>\n",
      "\n",
      "**************************************************\n",
      "\n"
     ]
    }
   ],
   "source": [
    "for i in range(5):\n",
    "    print(f'{df.loc[i, \"text\"]}\\n\\n' + '*' * 50 + '\\n')"
   ]
  },
  {
   "cell_type": "code",
   "execution_count": null,
   "id": "e55710cb-7aaf-4ae0-b61e-21d4ced8af5c",
   "metadata": {},
   "outputs": [],
   "source": []
  }
 ],
 "metadata": {
  "kernelspec": {
   "display_name": "Python (NLP)",
   "language": "python",
   "name": "nlp"
  },
  "language_info": {
   "codemirror_mode": {
    "name": "ipython",
    "version": 3
   },
   "file_extension": ".py",
   "mimetype": "text/x-python",
   "name": "python",
   "nbconvert_exporter": "python",
   "pygments_lexer": "ipython3",
   "version": "3.10.18"
  }
 },
 "nbformat": 4,
 "nbformat_minor": 5
}

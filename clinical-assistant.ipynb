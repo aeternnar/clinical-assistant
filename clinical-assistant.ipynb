{
 "cells": [
  {
   "cell_type": "code",
   "execution_count": 1,
   "id": "0dfffef9-9342-49ba-a3e5-0c2a41765f0a",
   "metadata": {},
   "outputs": [],
   "source": [
    "import numpy as np\n",
    "import pandas as pd\n",
    "import matplotlib.pyplot as plt\n",
    "import seaborn as sns\n",
    "import torch\n",
    "\n",
    "sns.set_style('darkgrid')"
   ]
  },
  {
   "cell_type": "code",
   "execution_count": 2,
   "id": "a86b22bb-f697-4b5f-919b-4edbfbde08c6",
   "metadata": {},
   "outputs": [],
   "source": [
    "df_origin = pd.read_csv('./dataset.csv')"
   ]
  },
  {
   "cell_type": "code",
   "execution_count": 3,
   "id": "a4452ab1-680b-40a1-bac0-3c1fa6047c86",
   "metadata": {},
   "outputs": [
    {
     "data": {
      "text/html": [
       "<div>\n",
       "<style scoped>\n",
       "    .dataframe tbody tr th:only-of-type {\n",
       "        vertical-align: middle;\n",
       "    }\n",
       "\n",
       "    .dataframe tbody tr th {\n",
       "        vertical-align: top;\n",
       "    }\n",
       "\n",
       "    .dataframe thead th {\n",
       "        text-align: right;\n",
       "    }\n",
       "</style>\n",
       "<table border=\"1\" class=\"dataframe\">\n",
       "  <thead>\n",
       "    <tr style=\"text-align: right;\">\n",
       "      <th></th>\n",
       "      <th>text</th>\n",
       "      <th>raw_data_id</th>\n",
       "    </tr>\n",
       "  </thead>\n",
       "  <tbody>\n",
       "    <tr>\n",
       "      <th>0</th>\n",
       "      <td>&lt;|user|&gt; What is high blood pressure? &lt;|eos|&gt; ...</td>\n",
       "      <td>0</td>\n",
       "    </tr>\n",
       "    <tr>\n",
       "      <th>1</th>\n",
       "      <td>&lt;|user|&gt; What are the risks of high blood pres...</td>\n",
       "      <td>0</td>\n",
       "    </tr>\n",
       "    <tr>\n",
       "      <th>2</th>\n",
       "      <td>&lt;|user|&gt; How is high blood pressure diagnosed?...</td>\n",
       "      <td>0</td>\n",
       "    </tr>\n",
       "    <tr>\n",
       "      <th>3</th>\n",
       "      <td>&lt;|user|&gt; What are the lifestyle changes that c...</td>\n",
       "      <td>0</td>\n",
       "    </tr>\n",
       "    <tr>\n",
       "      <th>4</th>\n",
       "      <td>&lt;|user|&gt; What are the medicines used to contro...</td>\n",
       "      <td>0</td>\n",
       "    </tr>\n",
       "  </tbody>\n",
       "</table>\n",
       "</div>"
      ],
      "text/plain": [
       "                                                text  raw_data_id\n",
       "0  <|user|> What is high blood pressure? <|eos|> ...            0\n",
       "1  <|user|> What are the risks of high blood pres...            0\n",
       "2  <|user|> How is high blood pressure diagnosed?...            0\n",
       "3  <|user|> What are the lifestyle changes that c...            0\n",
       "4  <|user|> What are the medicines used to contro...            0"
      ]
     },
     "execution_count": 3,
     "metadata": {},
     "output_type": "execute_result"
    }
   ],
   "source": [
    "df_origin.head()"
   ]
  },
  {
   "cell_type": "code",
   "execution_count": 4,
   "id": "74d810d7-cdcd-427e-9d21-9ec7ef957b1f",
   "metadata": {},
   "outputs": [],
   "source": [
    "df = df_origin.drop(columns=['raw_data_id'], axis=1)"
   ]
  },
  {
   "cell_type": "code",
   "execution_count": 5,
   "id": "e96c34be-c96d-49f8-ba0e-52397f477e20",
   "metadata": {},
   "outputs": [
    {
     "data": {
      "text/html": [
       "<div>\n",
       "<style scoped>\n",
       "    .dataframe tbody tr th:only-of-type {\n",
       "        vertical-align: middle;\n",
       "    }\n",
       "\n",
       "    .dataframe tbody tr th {\n",
       "        vertical-align: top;\n",
       "    }\n",
       "\n",
       "    .dataframe thead th {\n",
       "        text-align: right;\n",
       "    }\n",
       "</style>\n",
       "<table border=\"1\" class=\"dataframe\">\n",
       "  <thead>\n",
       "    <tr style=\"text-align: right;\">\n",
       "      <th></th>\n",
       "      <th>text</th>\n",
       "    </tr>\n",
       "  </thead>\n",
       "  <tbody>\n",
       "    <tr>\n",
       "      <th>0</th>\n",
       "      <td>&lt;|user|&gt; What is high blood pressure? &lt;|eos|&gt; ...</td>\n",
       "    </tr>\n",
       "    <tr>\n",
       "      <th>1</th>\n",
       "      <td>&lt;|user|&gt; What are the risks of high blood pres...</td>\n",
       "    </tr>\n",
       "    <tr>\n",
       "      <th>2</th>\n",
       "      <td>&lt;|user|&gt; How is high blood pressure diagnosed?...</td>\n",
       "    </tr>\n",
       "    <tr>\n",
       "      <th>3</th>\n",
       "      <td>&lt;|user|&gt; What are the lifestyle changes that c...</td>\n",
       "    </tr>\n",
       "    <tr>\n",
       "      <th>4</th>\n",
       "      <td>&lt;|user|&gt; What are the medicines used to contro...</td>\n",
       "    </tr>\n",
       "  </tbody>\n",
       "</table>\n",
       "</div>"
      ],
      "text/plain": [
       "                                                text\n",
       "0  <|user|> What is high blood pressure? <|eos|> ...\n",
       "1  <|user|> What are the risks of high blood pres...\n",
       "2  <|user|> How is high blood pressure diagnosed?...\n",
       "3  <|user|> What are the lifestyle changes that c...\n",
       "4  <|user|> What are the medicines used to contro..."
      ]
     },
     "execution_count": 5,
     "metadata": {},
     "output_type": "execute_result"
    }
   ],
   "source": [
    "df.head()"
   ]
  },
  {
   "cell_type": "code",
   "execution_count": 6,
   "id": "ffe62e97-8263-4b19-913b-c97c83373d9e",
   "metadata": {},
   "outputs": [
    {
     "name": "stdout",
     "output_type": "stream",
     "text": [
      "<|user|> What is high blood pressure? <|eos|> <|ai|> High blood pressure is a condition where the force at which your heart pumps blood around your body is high. It is recorded with 2 numbers, the systolic pressure and the diastolic pressure, both measured in millimetres of mercury (mmHg).\n",
      "References:\n",
      "- https://www.nhs.uk/conditions/Blood-pressure-(high)/Pages/Introduction.aspx <|eos|> <|eod|>\n",
      "\n",
      "**************************************************\n",
      "\n",
      "<|user|> What are the risks of high blood pressure? <|eos|> <|ai|> Persistent high blood pressure can put extra strain on your blood vessels, heart, and other organs, such as the brain, kidneys, and eyes. It can increase your risk of serious and potentially life-threatening health conditions, such as heart disease, heart attacks, strokes, heart failure, peripheral arterial disease, aortic aneurysms, kidney disease, and vascular dementia.\n",
      "References:\n",
      "- https://www.nhs.uk/conditions/Blood-pressure-(high)/Pages/Introduction.aspx <|eos|> <|eod|>\n",
      "\n",
      "**************************************************\n",
      "\n",
      "<|user|> How is high blood pressure diagnosed? <|eos|> <|ai|> The only way of knowing whether you have high blood pressure is to have a blood pressure test, which can be done at your GP surgery, some pharmacies, as part of your NHS Health Check, or in some workplaces. All adults over 40 are advised to have their blood pressure checked at least every 5 years.\n",
      "References:\n",
      "- https://www.nhs.uk/conditions/Blood-pressure-(high)/Pages/Introduction.aspx <|eos|> <|eod|>\n",
      "\n",
      "**************************************************\n",
      "\n",
      "<|user|> What are the lifestyle changes that can help reduce blood pressure? <|eos|> <|ai|> Lifestyle changes that can help prevent and lower high blood pressure include reducing the amount of salt you eat and having a generally healthy diet, cutting back on alcohol, losing weight if you're overweight, exercising regularly, cutting down on caffeine, and stopping smoking.\n",
      "References:\n",
      "- https://www.nhs.uk/conditions/Blood-pressure-(high)/Pages/Introduction.aspx <|eos|> <|eod|>\n",
      "\n",
      "**************************************************\n",
      "\n",
      "<|user|> What are the medicines used to control high blood pressure? <|eos|> <|ai|> Common blood pressure medicines include ACE inhibitors, angiotensin-2 receptor blockers (ARBs), calcium channel blockers, diuretics, beta blockers, alpha blockers, and other diuretics. The medicine recommended for you will depend on factors like how high your blood pressure is, your age, and your ethnicity.\n",
      "References:\n",
      "- https://www.nhs.uk/conditions/Blood-pressure-(high)/Pages/Introduction.aspx <|eos|> <|eod|>\n",
      "\n",
      "**************************************************\n",
      "\n"
     ]
    }
   ],
   "source": [
    "for i in range(5):\n",
    "    print(f'{df.loc[i, \"text\"]}\\n\\n' + '*' * 50 + '\\n')"
   ]
  },
  {
   "cell_type": "code",
   "execution_count": 7,
   "id": "b6e737c4-b683-4c4a-b871-a5ceebe50002",
   "metadata": {},
   "outputs": [],
   "source": [
    "df['text'] = df['text'].str.split('References:').str[0].str.strip() + ' <|eos|> <|eod|>'"
   ]
  },
  {
   "cell_type": "code",
   "execution_count": 8,
   "id": "9bf8c521-3cd6-48d5-a7ac-056a25682092",
   "metadata": {},
   "outputs": [
    {
     "name": "stdout",
     "output_type": "stream",
     "text": [
      "<|user|> What is high blood pressure? <|eos|> <|ai|> High blood pressure is a condition where the force at which your heart pumps blood around your body is high. It is recorded with 2 numbers, the systolic pressure and the diastolic pressure, both measured in millimetres of mercury (mmHg). <|eos|> <|eod|>\n",
      "\n",
      "**************************************************\n",
      "\n",
      "<|user|> What are the risks of high blood pressure? <|eos|> <|ai|> Persistent high blood pressure can put extra strain on your blood vessels, heart, and other organs, such as the brain, kidneys, and eyes. It can increase your risk of serious and potentially life-threatening health conditions, such as heart disease, heart attacks, strokes, heart failure, peripheral arterial disease, aortic aneurysms, kidney disease, and vascular dementia. <|eos|> <|eod|>\n",
      "\n",
      "**************************************************\n",
      "\n",
      "<|user|> How is high blood pressure diagnosed? <|eos|> <|ai|> The only way of knowing whether you have high blood pressure is to have a blood pressure test, which can be done at your GP surgery, some pharmacies, as part of your NHS Health Check, or in some workplaces. All adults over 40 are advised to have their blood pressure checked at least every 5 years. <|eos|> <|eod|>\n",
      "\n",
      "**************************************************\n",
      "\n",
      "<|user|> What are the lifestyle changes that can help reduce blood pressure? <|eos|> <|ai|> Lifestyle changes that can help prevent and lower high blood pressure include reducing the amount of salt you eat and having a generally healthy diet, cutting back on alcohol, losing weight if you're overweight, exercising regularly, cutting down on caffeine, and stopping smoking. <|eos|> <|eod|>\n",
      "\n",
      "**************************************************\n",
      "\n",
      "<|user|> What are the medicines used to control high blood pressure? <|eos|> <|ai|> Common blood pressure medicines include ACE inhibitors, angiotensin-2 receptor blockers (ARBs), calcium channel blockers, diuretics, beta blockers, alpha blockers, and other diuretics. The medicine recommended for you will depend on factors like how high your blood pressure is, your age, and your ethnicity. <|eos|> <|eod|>\n",
      "\n",
      "**************************************************\n",
      "\n"
     ]
    }
   ],
   "source": [
    "for i in range(5):\n",
    "    print(f'{df.loc[i, \"text\"]}\\n\\n' + '*' * 50 + '\\n')"
   ]
  },
  {
   "cell_type": "code",
   "execution_count": 9,
   "id": "e03a2ecb-cdf4-4baa-aed8-fd3d6e7e2034",
   "metadata": {},
   "outputs": [],
   "source": [
    "import re\n",
    "\n",
    "def convert_to_gemma_format(text):\n",
    "    t = text.replace('<|eos|>', '').replace('<|eod|>', '')\n",
    "    t = t.replace('<|user|>', '<start_of_turn>user\\n')\n",
    "    t = t.replace('<|ai|>', '<end_of_turn>\\n<start_of_turn>model\\n')\n",
    "    t = t.strip()\n",
    "    t = re.sub(r'\\n\\s+', '\\n', t)\n",
    "    t = re.sub(r'\\s+<end_of_turn>', '<end_of_turn>', t)\n",
    "    t = re.sub(r'[ \\t]+(\\n)', r'\\1', t)\n",
    "    t = re.sub(r' {2,}', ' ', t)\n",
    "    if not t.endswith('<end_of_turn>'):\n",
    "        t = t + '<end_of_turn>'\n",
    "\n",
    "    return t\n",
    "    \n",
    "df['text'] = df['text'].apply(convert_to_gemma_format)"
   ]
  },
  {
   "cell_type": "code",
   "execution_count": 10,
   "id": "f39974df-62f5-443a-bc97-63bbb2adc448",
   "metadata": {},
   "outputs": [
    {
     "name": "stdout",
     "output_type": "stream",
     "text": [
      "<start_of_turn>user\n",
      "What is high blood pressure?<end_of_turn>\n",
      "<start_of_turn>model\n",
      "High blood pressure is a condition where the force at which your heart pumps blood around your body is high. It is recorded with 2 numbers, the systolic pressure and the diastolic pressure, both measured in millimetres of mercury (mmHg).<end_of_turn>\n",
      "\n",
      "**************************************************\n",
      "\n",
      "<start_of_turn>user\n",
      "What are the risks of high blood pressure?<end_of_turn>\n",
      "<start_of_turn>model\n",
      "Persistent high blood pressure can put extra strain on your blood vessels, heart, and other organs, such as the brain, kidneys, and eyes. It can increase your risk of serious and potentially life-threatening health conditions, such as heart disease, heart attacks, strokes, heart failure, peripheral arterial disease, aortic aneurysms, kidney disease, and vascular dementia.<end_of_turn>\n",
      "\n",
      "**************************************************\n",
      "\n",
      "<start_of_turn>user\n",
      "How is high blood pressure diagnosed?<end_of_turn>\n",
      "<start_of_turn>model\n",
      "The only way of knowing whether you have high blood pressure is to have a blood pressure test, which can be done at your GP surgery, some pharmacies, as part of your NHS Health Check, or in some workplaces. All adults over 40 are advised to have their blood pressure checked at least every 5 years.<end_of_turn>\n",
      "\n",
      "**************************************************\n",
      "\n",
      "<start_of_turn>user\n",
      "What are the lifestyle changes that can help reduce blood pressure?<end_of_turn>\n",
      "<start_of_turn>model\n",
      "Lifestyle changes that can help prevent and lower high blood pressure include reducing the amount of salt you eat and having a generally healthy diet, cutting back on alcohol, losing weight if you're overweight, exercising regularly, cutting down on caffeine, and stopping smoking.<end_of_turn>\n",
      "\n",
      "**************************************************\n",
      "\n",
      "<start_of_turn>user\n",
      "What are the medicines used to control high blood pressure?<end_of_turn>\n",
      "<start_of_turn>model\n",
      "Common blood pressure medicines include ACE inhibitors, angiotensin-2 receptor blockers (ARBs), calcium channel blockers, diuretics, beta blockers, alpha blockers, and other diuretics. The medicine recommended for you will depend on factors like how high your blood pressure is, your age, and your ethnicity.<end_of_turn>\n",
      "\n",
      "**************************************************\n",
      "\n"
     ]
    }
   ],
   "source": [
    "for i in range(5):\n",
    "    print(f'{df.loc[i, \"text\"]}\\n\\n' + '*' * 50 + '\\n')"
   ]
  },
  {
   "cell_type": "code",
   "execution_count": 11,
   "id": "e55710cb-7aaf-4ae0-b61e-21d4ced8af5c",
   "metadata": {},
   "outputs": [],
   "source": [
    "df['len'] = df['text'].str.split().apply(len)"
   ]
  },
  {
   "cell_type": "code",
   "execution_count": 12,
   "id": "fc4fa7b9-4028-453a-9cc0-31435a333748",
   "metadata": {},
   "outputs": [
    {
     "data": {
      "image/png": "[encoded data removed]",
      "text/plain": [
       "<Figure size 1000x600 with 1 Axes>"
      ]
     },
     "metadata": {},
     "output_type": "display_data"
    }
   ],
   "source": [
    "plt.figure(figsize=(10, 6))\n",
    "sns.histplot(data=df, x='len', kde=True, bins=60, color='green')\n",
    "plt.title('Распределение длин текстов (в словах)')\n",
    "plt.yticks(None)\n",
    "plt.xlabel(None)\n",
    "plt.ylabel(None);"
   ]
  },
  {
   "cell_type": "code",
   "execution_count": 13,
   "id": "0105f026-aa54-4dc0-8dc7-13432e97bcdd",
   "metadata": {},
   "outputs": [
    {
     "data": {
      "text/plain": [
       "(24665, 2)"
      ]
     },
     "execution_count": 13,
     "metadata": {},
     "output_type": "execute_result"
    }
   ],
   "source": [
    "df.shape"
   ]
  },
  {
   "cell_type": "code",
   "execution_count": 14,
   "id": "ef9744e9-6a2a-40f0-bc92-97d4498c5875",
   "metadata": {},
   "outputs": [
    {
     "data": {
      "text/html": [
       "<div>\n",
       "<style scoped>\n",
       "    .dataframe tbody tr th:only-of-type {\n",
       "        vertical-align: middle;\n",
       "    }\n",
       "\n",
       "    .dataframe tbody tr th {\n",
       "        vertical-align: top;\n",
       "    }\n",
       "\n",
       "    .dataframe thead th {\n",
       "        text-align: right;\n",
       "    }\n",
       "</style>\n",
       "<table border=\"1\" class=\"dataframe\">\n",
       "  <thead>\n",
       "    <tr style=\"text-align: right;\">\n",
       "      <th></th>\n",
       "      <th>text</th>\n",
       "      <th>len</th>\n",
       "    </tr>\n",
       "  </thead>\n",
       "  <tbody>\n",
       "    <tr>\n",
       "      <th>1410</th>\n",
       "      <td>&lt;start_of_turn&gt;user\\nWhat should I do if I mis...</td>\n",
       "      <td>195</td>\n",
       "    </tr>\n",
       "    <tr>\n",
       "      <th>6633</th>\n",
       "      <td>&lt;start_of_turn&gt;user\\nWhat are the symptoms of ...</td>\n",
       "      <td>166</td>\n",
       "    </tr>\n",
       "    <tr>\n",
       "      <th>7044</th>\n",
       "      <td>&lt;start_of_turn&gt;user\\nWhat are the main steps f...</td>\n",
       "      <td>166</td>\n",
       "    </tr>\n",
       "    <tr>\n",
       "      <th>9885</th>\n",
       "      <td>&lt;start_of_turn&gt;user\\nHow does the cervical sec...</td>\n",
       "      <td>170</td>\n",
       "    </tr>\n",
       "    <tr>\n",
       "      <th>12862</th>\n",
       "      <td>&lt;start_of_turn&gt;user\\nWhat are ticks, and how c...</td>\n",
       "      <td>164</td>\n",
       "    </tr>\n",
       "    <tr>\n",
       "      <th>14215</th>\n",
       "      <td>&lt;start_of_turn&gt;user\\nHow do I treat someone wh...</td>\n",
       "      <td>164</td>\n",
       "    </tr>\n",
       "    <tr>\n",
       "      <th>14344</th>\n",
       "      <td>&lt;start_of_turn&gt;user\\nWhat financial support is...</td>\n",
       "      <td>162</td>\n",
       "    </tr>\n",
       "    <tr>\n",
       "      <th>14768</th>\n",
       "      <td>&lt;start_of_turn&gt;user\\nWhat are the stages of me...</td>\n",
       "      <td>217</td>\n",
       "    </tr>\n",
       "    <tr>\n",
       "      <th>17722</th>\n",
       "      <td>&lt;start_of_turn&gt;user\\nHow can I keep children u...</td>\n",
       "      <td>274</td>\n",
       "    </tr>\n",
       "    <tr>\n",
       "      <th>22835</th>\n",
       "      <td>&lt;start_of_turn&gt;user\\nHow can I prepare for tra...</td>\n",
       "      <td>186</td>\n",
       "    </tr>\n",
       "    <tr>\n",
       "      <th>23804</th>\n",
       "      <td>&lt;start_of_turn&gt;user\\nWho should not have the B...</td>\n",
       "      <td>196</td>\n",
       "    </tr>\n",
       "  </tbody>\n",
       "</table>\n",
       "</div>"
      ],
      "text/plain": [
       "                                                    text  len\n",
       "1410   <start_of_turn>user\\nWhat should I do if I mis...  195\n",
       "6633   <start_of_turn>user\\nWhat are the symptoms of ...  166\n",
       "7044   <start_of_turn>user\\nWhat are the main steps f...  166\n",
       "9885   <start_of_turn>user\\nHow does the cervical sec...  170\n",
       "12862  <start_of_turn>user\\nWhat are ticks, and how c...  164\n",
       "14215  <start_of_turn>user\\nHow do I treat someone wh...  164\n",
       "14344  <start_of_turn>user\\nWhat financial support is...  162\n",
       "14768  <start_of_turn>user\\nWhat are the stages of me...  217\n",
       "17722  <start_of_turn>user\\nHow can I keep children u...  274\n",
       "22835  <start_of_turn>user\\nHow can I prepare for tra...  186\n",
       "23804  <start_of_turn>user\\nWho should not have the B...  196"
      ]
     },
     "execution_count": 14,
     "metadata": {},
     "output_type": "execute_result"
    }
   ],
   "source": [
    "df[df['len'] > 160]"
   ]
  },
  {
   "cell_type": "code",
   "execution_count": 15,
   "id": "0dc757b5-e1df-4b2d-9acb-980da940680a",
   "metadata": {},
   "outputs": [],
   "source": [
    "df = df[df['len'] < 160]"
   ]
  },
  {
   "cell_type": "code",
   "execution_count": 16,
   "id": "197101f0-4937-4196-a6c2-826fc271f441",
   "metadata": {},
   "outputs": [
    {
     "data": {
      "image/png": "[encoded data removed]",
      "text/plain": [
       "<Figure size 1000x600 with 1 Axes>"
      ]
     },
     "metadata": {},
     "output_type": "display_data"
    }
   ],
   "source": [
    "plt.figure(figsize=(10, 6))\n",
    "sns.histplot(data=df, x='len', kde=True, bins=60, color='green')\n",
    "plt.title('Распределение длин текстов (в словах)')\n",
    "plt.yticks(None)\n",
    "plt.xlabel(None)\n",
    "plt.ylabel(None);"
   ]
  },
  {
   "cell_type": "code",
   "execution_count": 17,
   "id": "bd6feed1-2796-437a-b6dd-b884285e52d2",
   "metadata": {},
   "outputs": [
    {
     "data": {
      "text/html": [
       "<div>\n",
       "<style scoped>\n",
       "    .dataframe tbody tr th:only-of-type {\n",
       "        vertical-align: middle;\n",
       "    }\n",
       "\n",
       "    .dataframe tbody tr th {\n",
       "        vertical-align: top;\n",
       "    }\n",
       "\n",
       "    .dataframe thead th {\n",
       "        text-align: right;\n",
       "    }\n",
       "</style>\n",
       "<table border=\"1\" class=\"dataframe\">\n",
       "  <thead>\n",
       "    <tr style=\"text-align: right;\">\n",
       "      <th></th>\n",
       "      <th>text</th>\n",
       "      <th>len</th>\n",
       "    </tr>\n",
       "  </thead>\n",
       "  <tbody>\n",
       "    <tr>\n",
       "      <th>0</th>\n",
       "      <td>&lt;start_of_turn&gt;user\\nWhat is high blood pressu...</td>\n",
       "      <td>47</td>\n",
       "    </tr>\n",
       "    <tr>\n",
       "      <th>1</th>\n",
       "      <td>&lt;start_of_turn&gt;user\\nWhat are the risks of hig...</td>\n",
       "      <td>64</td>\n",
       "    </tr>\n",
       "    <tr>\n",
       "      <th>2</th>\n",
       "      <td>&lt;start_of_turn&gt;user\\nHow is high blood pressur...</td>\n",
       "      <td>64</td>\n",
       "    </tr>\n",
       "    <tr>\n",
       "      <th>3</th>\n",
       "      <td>&lt;start_of_turn&gt;user\\nWhat are the lifestyle ch...</td>\n",
       "      <td>56</td>\n",
       "    </tr>\n",
       "    <tr>\n",
       "      <th>4</th>\n",
       "      <td>&lt;start_of_turn&gt;user\\nWhat are the medicines us...</td>\n",
       "      <td>55</td>\n",
       "    </tr>\n",
       "    <tr>\n",
       "      <th>...</th>\n",
       "      <td>...</td>\n",
       "      <td>...</td>\n",
       "    </tr>\n",
       "    <tr>\n",
       "      <th>24660</th>\n",
       "      <td>&lt;start_of_turn&gt;user\\nWhat is the prevalence of...</td>\n",
       "      <td>32</td>\n",
       "    </tr>\n",
       "    <tr>\n",
       "      <th>24661</th>\n",
       "      <td>&lt;start_of_turn&gt;user\\nWhat is the prevalence of...</td>\n",
       "      <td>21</td>\n",
       "    </tr>\n",
       "    <tr>\n",
       "      <th>24662</th>\n",
       "      <td>&lt;start_of_turn&gt;user\\nWhat is the burden associ...</td>\n",
       "      <td>69</td>\n",
       "    </tr>\n",
       "    <tr>\n",
       "      <th>24663</th>\n",
       "      <td>&lt;start_of_turn&gt;user\\nWhat does the clinical gu...</td>\n",
       "      <td>43</td>\n",
       "    </tr>\n",
       "    <tr>\n",
       "      <th>24664</th>\n",
       "      <td>&lt;start_of_turn&gt;user\\nWhat is not covered in th...</td>\n",
       "      <td>50</td>\n",
       "    </tr>\n",
       "  </tbody>\n",
       "</table>\n",
       "<p>24654 rows × 2 columns</p>\n",
       "</div>"
      ],
      "text/plain": [
       "                                                    text  len\n",
       "0      <start_of_turn>user\\nWhat is high blood pressu...   47\n",
       "1      <start_of_turn>user\\nWhat are the risks of hig...   64\n",
       "2      <start_of_turn>user\\nHow is high blood pressur...   64\n",
       "3      <start_of_turn>user\\nWhat are the lifestyle ch...   56\n",
       "4      <start_of_turn>user\\nWhat are the medicines us...   55\n",
       "...                                                  ...  ...\n",
       "24660  <start_of_turn>user\\nWhat is the prevalence of...   32\n",
       "24661  <start_of_turn>user\\nWhat is the prevalence of...   21\n",
       "24662  <start_of_turn>user\\nWhat is the burden associ...   69\n",
       "24663  <start_of_turn>user\\nWhat does the clinical gu...   43\n",
       "24664  <start_of_turn>user\\nWhat is not covered in th...   50\n",
       "\n",
       "[24654 rows x 2 columns]"
      ]
     },
     "execution_count": 17,
     "metadata": {},
     "output_type": "execute_result"
    }
   ],
   "source": [
    "df"
   ]
  },
  {
   "cell_type": "code",
   "execution_count": 18,
   "id": "76e9e0cd-5823-413e-94c4-a5ecbf4c3113",
   "metadata": {},
   "outputs": [],
   "source": [
    "df['text'] = df['text'].str.replace(\"<\\\\|eos\\\\|>\", \"<eos>\", regex=True)"
   ]
  },
  {
   "cell_type": "code",
   "execution_count": 19,
   "id": "a4a18a1f-7f2f-41e5-a888-26d3c5d7c83a",
   "metadata": {},
   "outputs": [],
   "source": [
    "from datasets import Dataset\n",
    "\n",
    "dataset = Dataset.from_pandas(df[[\"text\"]])"
   ]
  },
  {
   "cell_type": "code",
   "execution_count": 20,
   "id": "3ae5ffc1-c2b5-4df9-a262-57e3ed63ccaa",
   "metadata": {},
   "outputs": [
    {
     "data": {
      "text/plain": [
       "Dataset({\n",
       "    features: ['text', '__index_level_0__'],\n",
       "    num_rows: 24654\n",
       "})"
      ]
     },
     "execution_count": 20,
     "metadata": {},
     "output_type": "execute_result"
    }
   ],
   "source": [
    "dataset"
   ]
  },
  {
   "cell_type": "code",
   "execution_count": 21,
   "id": "a99a7984-eca2-4d1e-83f0-0f5f84e4f75f",
   "metadata": {},
   "outputs": [],
   "source": [
    "dataset = dataset.remove_columns([\"__index_level_0__\"])"
   ]
  },
  {
   "cell_type": "code",
   "execution_count": 22,
   "id": "11582df1-6556-4af5-976f-5f3aef0082a8",
   "metadata": {},
   "outputs": [],
   "source": [
    "from datasets import DatasetDict\n",
    "\n",
    "split_temp = dataset.train_test_split(test_size=0.1, seed=42)\n",
    "\n",
    "temp = split_temp[\"test\"]\n",
    "val_test_split = temp.train_test_split(test_size=0.5, seed=42)\n",
    "\n",
    "dataset = DatasetDict({\n",
    "    \"train\": split_temp[\"train\"],\n",
    "    \"validation\": val_test_split[\"train\"],\n",
    "    \"test\": val_test_split[\"test\"]\n",
    "})"
   ]
  },
  {
   "cell_type": "code",
   "execution_count": 23,
   "id": "9aced456-02ee-458b-9264-724ca25d1df7",
   "metadata": {},
   "outputs": [
    {
     "data": {
      "text/plain": [
       "DatasetDict({\n",
       "    train: Dataset({\n",
       "        features: ['text'],\n",
       "        num_rows: 22188\n",
       "    })\n",
       "    validation: Dataset({\n",
       "        features: ['text'],\n",
       "        num_rows: 1233\n",
       "    })\n",
       "    test: Dataset({\n",
       "        features: ['text'],\n",
       "        num_rows: 1233\n",
       "    })\n",
       "})"
      ]
     },
     "execution_count": 23,
     "metadata": {},
     "output_type": "execute_result"
    }
   ],
   "source": [
    "dataset"
   ]
  },
  {
   "cell_type": "code",
   "execution_count": 24,
   "id": "e12bc311-5fac-4279-b060-84a2fc3a03c9",
   "metadata": {},
   "outputs": [],
   "source": [
    "from transformers import AutoTokenizer\n",
    "\n",
    "checkpoint = \"./gemma-2-2b-it\"\n",
    "tokenizer = AutoTokenizer.from_pretrained(checkpoint)"
   ]
  },
  {
   "cell_type": "code",
   "execution_count": 25,
   "id": "ac93e23c-1290-4060-8e79-3b9779d2ae46",
   "metadata": {},
   "outputs": [
    {
     "name": "stdout",
     "output_type": "stream",
     "text": [
      "padding_side: left\n"
     ]
    }
   ],
   "source": [
    "print(\"padding_side:\", tokenizer.padding_side)"
   ]
  },
  {
   "cell_type": "code",
   "execution_count": 26,
   "id": "f20ff55f-7862-4363-a231-6f2d759d1c5f",
   "metadata": {},
   "outputs": [],
   "source": [
    "tokenizer.padding_side = \"right\""
   ]
  },
  {
   "cell_type": "code",
   "execution_count": 27,
   "id": "97e2060d-00ac-435d-86bb-887581d44077",
   "metadata": {},
   "outputs": [
    {
     "name": "stdout",
     "output_type": "stream",
     "text": [
      "256000\n"
     ]
    }
   ],
   "source": [
    "print(tokenizer.vocab_size)"
   ]
  },
  {
   "cell_type": "code",
   "execution_count": 28,
   "id": "775b0262-2a2f-499d-b9f6-59dcfdb74ad4",
   "metadata": {},
   "outputs": [
    {
     "name": "stdout",
     "output_type": "stream",
     "text": [
      "{'bos_token': '<bos>', 'eos_token': '<eos>', 'unk_token': '<unk>', 'pad_token': '<pad>', 'additional_special_tokens': ['<start_of_turn>', '<end_of_turn>']}\n",
      "['<bos>', '<eos>', '<unk>', '<pad>', '<start_of_turn>', '<end_of_turn>']\n"
     ]
    }
   ],
   "source": [
    "print(tokenizer.special_tokens_map)\n",
    "print(tokenizer.all_special_tokens)"
   ]
  },
  {
   "cell_type": "code",
   "execution_count": 29,
   "id": "15cf18dd-826c-4649-aacd-318ab1889be7",
   "metadata": {},
   "outputs": [],
   "source": [
    "def tokenize_for_len_analysis(example, max_length=1024):\n",
    "    tokens = tokenizer(\n",
    "        example[\"text\"],\n",
    "        padding=False\n",
    "    )[\"input_ids\"]\n",
    "\n",
    "    return {\"input_ids\": tokens}"
   ]
  },
  {
   "cell_type": "code",
   "execution_count": 30,
   "id": "9e5cfe4d-318a-480c-b8ee-6147a06624c0",
   "metadata": {},
   "outputs": [
    {
     "data": {
      "application/vnd.jupyter.widget-view+json": {
       "model_id": "b10990ca3c194209bba6dc07f77fb8d0",
       "version_major": 2,
       "version_minor": 0
      },
      "text/plain": [
       "Map:   0%|          | 0/22188 [00:00<?, ? examples/s]"
      ]
     },
     "metadata": {},
     "output_type": "display_data"
    },
    {
     "data": {
      "application/vnd.jupyter.widget-view+json": {
       "model_id": "6f74cc65812a4067ac93f959df8e98dd",
       "version_major": 2,
       "version_minor": 0
      },
      "text/plain": [
       "Map:   0%|          | 0/1233 [00:00<?, ? examples/s]"
      ]
     },
     "metadata": {},
     "output_type": "display_data"
    },
    {
     "data": {
      "application/vnd.jupyter.widget-view+json": {
       "model_id": "45faccaf858140ebbd4d8f23f2e8f0c8",
       "version_major": 2,
       "version_minor": 0
      },
      "text/plain": [
       "Map:   0%|          | 0/1233 [00:00<?, ? examples/s]"
      ]
     },
     "metadata": {},
     "output_type": "display_data"
    }
   ],
   "source": [
    "tokenized_dataset_temp = dataset.map(tokenize_for_len_analysis, batched=False)"
   ]
  },
  {
   "cell_type": "code",
   "execution_count": 31,
   "id": "c86aa004-dda0-4804-93b8-fa49b46e7ec8",
   "metadata": {},
   "outputs": [],
   "source": [
    "lengths = [len(x[\"input_ids\"]) for x in tokenized_dataset_temp[\"train\"]]\n",
    "lengths_df = pd.DataFrame(data=lengths)"
   ]
  },
  {
   "cell_type": "code",
   "execution_count": 32,
   "id": "51d632aa-420b-478a-aad4-2e9cb2bcd110",
   "metadata": {},
   "outputs": [
    {
     "data": {
      "image/png": "[encoded data removed]",
      "text/plain": [
       "<Figure size 1000x600 with 1 Axes>"
      ]
     },
     "metadata": {},
     "output_type": "display_data"
    }
   ],
   "source": [
    "plt.figure(figsize=(10, 6))\n",
    "sns.histplot(data=lengths_df, kde=True, bins=50)\n",
    "plt.yticks(None)\n",
    "plt.xlabel(None)\n",
    "plt.ylabel(None)\n",
    "plt.legend([])\n",
    "plt.title(\"Распределение длин текстов (в токенах)\");"
   ]
  },
  {
   "cell_type": "code",
   "execution_count": 33,
   "id": "2744189d-6849-44b8-901f-fb7cf5d939f8",
   "metadata": {},
   "outputs": [
    {
     "name": "stdout",
     "output_type": "stream",
     "text": [
      "90-й перцентиль: 102.0\n",
      "95-й перцентиль: 115.0\n",
      "99-й перцентиль: 144.0\n",
      "Максимальная длина: 260\n"
     ]
    }
   ],
   "source": [
    "print(\"90-й перцентиль:\", np.percentile(lengths, 90))\n",
    "print(\"95-й перцентиль:\", np.percentile(lengths, 95))\n",
    "print(\"99-й перцентиль:\", np.percentile(lengths, 99))\n",
    "print(\"Максимальная длина:\", max(lengths))"
   ]
  },
  {
   "cell_type": "code",
   "execution_count": 34,
   "id": "9e9a6565-fabb-4ce4-b419-939f7a8cac85",
   "metadata": {},
   "outputs": [],
   "source": [
    "def tokenize_and_mask(example, max_length=152):\n",
    "    tokens = tokenizer(\n",
    "        example[\"text\"],\n",
    "        truncation=True,\n",
    "        max_length=max_length,\n",
    "        padding=\"max_length\",\n",
    "    )[\"input_ids\"]\n",
    "\n",
    "    start_id = tokenizer.convert_tokens_to_ids(\"<start_of_turn>\")\n",
    "\n",
    "    indices = [i for i, t in enumerate(tokens) if t == start_id]\n",
    "\n",
    "    ai_index = None\n",
    "    for idx in indices:\n",
    "        following_text = tokenizer.decode(tokens[idx: idx+3])\n",
    "        if \"model\" in following_text:\n",
    "            ai_index = idx\n",
    "            break\n",
    "\n",
    "    if ai_index is None:\n",
    "        return {\"input_ids\": tokens, \"labels\": [-100] * len(tokens)}\n",
    "\n",
    "    labels = [-100] * (ai_index + 1) + tokens[ai_index + 1:]\n",
    "\n",
    "    return {\"input_ids\": tokens, \"labels\": labels}"
   ]
  },
  {
   "cell_type": "code",
   "execution_count": 35,
   "id": "a3051ff4-60aa-4485-8ef2-5f8ee1cfb0b8",
   "metadata": {},
   "outputs": [
    {
     "data": {
      "application/vnd.jupyter.widget-view+json": {
       "model_id": "8051dbdbbb22479199e5c8c8fdbe9946",
       "version_major": 2,
       "version_minor": 0
      },
      "text/plain": [
       "Map:   0%|          | 0/22188 [00:00<?, ? examples/s]"
      ]
     },
     "metadata": {},
     "output_type": "display_data"
    },
    {
     "data": {
      "application/vnd.jupyter.widget-view+json": {
       "model_id": "fcab186ca0c94c33b2866842c07e6be8",
       "version_major": 2,
       "version_minor": 0
      },
      "text/plain": [
       "Map:   0%|          | 0/1233 [00:00<?, ? examples/s]"
      ]
     },
     "metadata": {},
     "output_type": "display_data"
    },
    {
     "data": {
      "application/vnd.jupyter.widget-view+json": {
       "model_id": "846d889ea8b84f9aadf444caaeeae487",
       "version_major": 2,
       "version_minor": 0
      },
      "text/plain": [
       "Map:   0%|          | 0/1233 [00:00<?, ? examples/s]"
      ]
     },
     "metadata": {},
     "output_type": "display_data"
    }
   ],
   "source": [
    "tokenized_dataset = dataset.map(tokenize_and_mask, batched=False)"
   ]
  },
  {
   "cell_type": "code",
   "execution_count": 36,
   "id": "2356b61f-502d-4716-b768-7ef3f9946cca",
   "metadata": {},
   "outputs": [],
   "source": [
    "from transformers import AutoModelForCausalLM, AutoTokenizer, BitsAndBytesConfig\n",
    "\n",
    "bnb = BitsAndBytesConfig(\n",
    "    load_in_4bit=True,\n",
    "    bnb_4bit_quant_type='nf4',\n",
    "    bnb_4bit_use_double_quant=True,\n",
    "    bnb_4bit_compute_dtype=torch.float16\n",
    ")"
   ]
  },
  {
   "cell_type": "code",
   "execution_count": 37,
   "id": "7dbbc98f-4618-4474-b436-12791c8b5d3c",
   "metadata": {
    "scrolled": true
   },
   "outputs": [
    {
     "data": {
      "application/vnd.jupyter.widget-view+json": {
       "model_id": "adcf7d57ddae42d79d3e89f530b1fb70",
       "version_major": 2,
       "version_minor": 0
      },
      "text/plain": [
       "Loading checkpoint shards:   0%|          | 0/2 [00:00<?, ?it/s]"
      ]
     },
     "metadata": {},
     "output_type": "display_data"
    }
   ],
   "source": [
    "from transformers import AutoModelForCausalLM\n",
    "model = AutoModelForCausalLM.from_pretrained(\n",
    "    checkpoint,\n",
    "    quantization_config=bnb,\n",
    "    trust_remote_code=True,\n",
    "    device_map=\"auto\",\n",
    "    attn_implementation=\"eager\"\n",
    ")"
   ]
  },
  {
   "cell_type": "code",
   "execution_count": 38,
   "id": "d1633a26-cf80-4c5a-a1ee-f37f366a5ad7",
   "metadata": {},
   "outputs": [],
   "source": [
    "from peft import prepare_model_for_kbit_training\n",
    "model = prepare_model_for_kbit_training(model)"
   ]
  },
  {
   "cell_type": "code",
   "execution_count": 39,
   "id": "815dcb33-2fdf-4f5e-8fff-9c58aa8276cd",
   "metadata": {},
   "outputs": [],
   "source": [
    "from peft import LoraConfig, get_peft_model\n",
    "\n",
    "lora = LoraConfig(\n",
    "    r=8,\n",
    "    lora_alpha=16,\n",
    "    lora_dropout=0.05,\n",
    "    target_modules=['q_proj', 'k_proj', 'v_proj', 'o_proj']\n",
    ")\n",
    "\n",
    "model = get_peft_model(model, lora)"
   ]
  },
  {
   "cell_type": "code",
   "execution_count": 40,
   "id": "36e1da9b-a38f-4356-92c6-9b6a36239a47",
   "metadata": {},
   "outputs": [],
   "source": [
    "model.config.use_cache = False\n",
    "model.gradient_checkpointing_enable()"
   ]
  },
  {
   "cell_type": "code",
   "execution_count": 41,
   "id": "1ea0b956-d74e-40e6-b6e1-7debca696dd3",
   "metadata": {},
   "outputs": [],
   "source": [
    "from transformers import Trainer, TrainingArguments, DataCollatorForLanguageModeling\n",
    "\n",
    "data_collator = DataCollatorForLanguageModeling(tokenizer, mlm=False)\n",
    "\n",
    "training_args = TrainingArguments(\n",
    "    output_dir=\"./gemma-lora\",\n",
    "    per_device_train_batch_size=4,\n",
    "    gradient_accumulation_steps=4,\n",
    "    learning_rate=2e-4,\n",
    "    num_train_epochs=3,\n",
    "    save_strategy=\"steps\",\n",
    "    save_steps=200,\n",
    "    logging_steps=50,\n",
    "    eval_strategy=\"steps\",\n",
    "    eval_steps=200,\n",
    "    fp16=True,\n",
    "\n",
    ")\n",
    "\n",
    "trainer = Trainer(\n",
    "    model=model,\n",
    "    args=training_args,\n",
    "    train_dataset=tokenized_dataset[\"train\"],\n",
    "    eval_dataset=tokenized_dataset[\"validation\"],\n",
    "    data_collator=data_collator\n",
    ")"
   ]
  },
  {
   "cell_type": "code",
   "execution_count": null,
   "id": "4d3c9733-9274-406d-9739-15e56f200c29",
   "metadata": {},
   "outputs": [
    {
     "data": {
      "text/html": [
       "\n",
       "    <div>\n",
       "      \n",
       "      <progress value='191' max='4161' style='width:300px; height:20px; vertical-align: middle;'></progress>\n",
       "      [ 191/4161 10:07 < 3:32:48, 0.31 it/s, Epoch 0.14/3]\n",
       "    </div>\n",
       "    <table border=\"1\" class=\"dataframe\">\n",
       "  <thead>\n",
       " <tr style=\"text-align: left;\">\n",
       "      <th>Step</th>\n",
       "      <th>Training Loss</th>\n",
       "      <th>Validation Loss</th>\n",
       "    </tr>\n",
       "  </thead>\n",
       "  <tbody>\n",
       "  </tbody>\n",
       "</table><p>"
      ],
      "text/plain": [
       "<IPython.core.display.HTML object>"
      ]
     },
     "metadata": {},
     "output_type": "display_data"
    }
   ],
   "source": [
    "trainer.train()"
   ]
  }
 ],
 "metadata": {
  "kernelspec": {
   "display_name": "Python (NLP)",
   "language": "python",
   "name": "nlp"
  },
  "language_info": {
   "codemirror_mode": {
    "name": "ipython",
    "version": 3
   },
   "file_extension": ".py",
   "mimetype": "text/x-python",
   "name": "python",
   "nbconvert_exporter": "python",
   "pygments_lexer": "ipython3",
   "version": "3.10.13"
  }
 },
 "nbformat": 4,
 "nbformat_minor": 5
}
